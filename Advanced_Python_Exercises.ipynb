{
  "nbformat": 4,
  "nbformat_minor": 0,
  "metadata": {
    "colab": {
      "provenance": [],
      "toc_visible": true,
      "authorship_tag": "ABX9TyM0VjpwZYXYimPiFdR2Oyuk",
      "include_colab_link": true
    },
    "kernelspec": {
      "name": "python3",
      "display_name": "Python 3"
    },
    "language_info": {
      "name": "python"
    }
  },
  "cells": [
    {
      "cell_type": "markdown",
      "metadata": {
        "id": "view-in-github",
        "colab_type": "text"
      },
      "source": [
        "<a href=\"https://colab.research.google.com/github/pedroquaiato26-Dev/Didactic_Google_Colab/blob/main/Advanced_Python_Exercises.ipynb\" target=\"_parent\"><img src=\"https://colab.research.google.com/assets/colab-badge.svg\" alt=\"Open In Colab\"/></a>"
      ]
    },
    {
      "cell_type": "markdown",
      "source": [
        "# Exercícios Avançados de Python: POO, Programação Funcional, Manipulação de Arquivos e Tratamento de Exceções"
      ],
      "metadata": {
        "id": "f4IwPcpzAcUx"
      }
    },
    {
      "cell_type": "markdown",
      "source": [
        "Este notebook traz uma série de exercícios avançados em Python, focados em conceitos fundamentais e práticos que abrangem:\n",
        "\n",
        "Programação Orientada a Objetos (POO) com classes abstratas e propriedades,\n",
        "\n",
        "Manipulação robusta de arquivos e tratamento de exceções,\n",
        "\n",
        "Paradigmas de programação funcional usando map, filter e reduce,\n",
        "\n",
        "Aplicação de decoradores para controle e monitoramento de funções.\n",
        "\n",
        "Os desafios aqui são pensados para ajudar a consolidar seu conhecimento, fortalecer habilidades técnicas e prepará-lo para projetos reais na área de engenharia de dados e desenvolvimento de software."
      ],
      "metadata": {
        "id": "VTGz5FYOAsBM"
      }
    },
    {
      "cell_type": "markdown",
      "source": [
        "## Exercício 1 — Sistema de contas bancárias com classes abstratas e propriedades"
      ],
      "metadata": {
        "id": "ysPfj_U1AyvL"
      }
    },
    {
      "cell_type": "markdown",
      "source": [
        "Você deve criar um sistema que modele contas bancárias.\n",
        "A classe base abstrata Conta deve definir métodos abstratos para depositar, sacar e extrato.\n",
        "Implemente duas classes filhas: ContaCorrente e ContaPoupanca.\n",
        "\n",
        "Regras:\n",
        "\n",
        "ContaCorrente permite cheque especial até um limite (ex: -500).\n",
        "\n",
        "ContaPoupanca tem rendimento mensal de 0,5%, calculado via propriedade saldo.\n",
        "\n",
        "Use propriedades para acessar o saldo, que deve ser privado.\n",
        "\n",
        "Lance exceção personalizada SaldoInsuficienteError ao tentar sacar mais que o saldo (considerando o limite no corrente).\n",
        "\n",
        "Faça um script que crie contas, faça operações e trate exceções."
      ],
      "metadata": {
        "id": "lsSmD8qXA2h5"
      }
    },
    {
      "cell_type": "code",
      "source": [
        "from abc import ABC, abstractmethod\n",
        "\n",
        "class SaldoInsuficienteError(Exception):\n",
        "    pass\n",
        "\n",
        "class Conta(ABC):\n",
        "    def __init__(self):\n",
        "        self._saldo = 0\n",
        "\n",
        "    @abstractmethod\n",
        "    def depositar(self, valor: int):\n",
        "        pass\n",
        "\n",
        "    @abstractmethod\n",
        "    def sacar(self, valor: int):\n",
        "        pass\n",
        "\n",
        "    @abstractmethod\n",
        "    def extrato(self):\n",
        "        pass\n",
        "\n",
        "class ContaCorrente(Conta):\n",
        "    def __init__(self, limite_cheque=500):\n",
        "        super().__init__()\n",
        "        self.limite_cheque = limite_cheque  # limite negativo\n",
        "\n",
        "    def depositar(self, valor: int):\n",
        "        self._saldo += valor\n",
        "\n",
        "    def sacar(self, valor: int):\n",
        "        if self._saldo - valor < -self.limite_cheque:\n",
        "            raise SaldoInsuficienteError(\"Saldo insuficiente com limite do cheque especial!\")\n",
        "        self._saldo -= valor\n",
        "\n",
        "    def extrato(self):\n",
        "        print(f\"Saldo corrente: R$ {self._saldo:.2f} (limite cheque especial: R$ {self.limite_cheque:.2f})\")\n",
        "\n",
        "class ContaPoupanca(Conta):\n",
        "    def __init__(self):\n",
        "        super().__init__()\n",
        "\n",
        "    def depositar(self, valor: int):\n",
        "        self._saldo += valor\n",
        "\n",
        "    def sacar(self, valor: int):\n",
        "        if valor > self._saldo:\n",
        "            raise SaldoInsuficienteError(\"Saldo insuficiente!\")\n",
        "        self._saldo -= valor\n",
        "\n",
        "    @property\n",
        "    def saldo(self):\n",
        "        return self._saldo * 1.005\n",
        "\n",
        "    def extrato(self):\n",
        "        print(f\"Saldo poupança com rendimento: R$ {self.saldo:.2f}\")\n",
        "\n",
        "\n",
        "try:\n",
        "    cc = ContaCorrente()\n",
        "    cc.depositar(1000)\n",
        "    cc.sacar(1300)\n",
        "    cc.extrato()\n",
        "\n",
        "    cp = ContaPoupanca()\n",
        "    cp.depositar(1000)\n",
        "    cp.sacar(200)\n",
        "    cp.extrato()\n",
        "\n",
        "    cp.sacar(1000)\n",
        "except SaldoInsuficienteError as e:\n",
        "    print(\"Erro:\", e)\n"
      ],
      "metadata": {
        "id": "aexsI7D3A4Yt"
      },
      "execution_count": null,
      "outputs": []
    },
    {
      "cell_type": "markdown",
      "source": [
        "## Exercício 2 — API genérica com classe abstrata e múltiplos métodos abstratos"
      ],
      "metadata": {
        "id": "A--V9tdaDFUK"
      }
    },
    {
      "cell_type": "markdown",
      "source": [
        "Crie uma classe abstrata API com métodos abstratos autenticar(token), enviar_requisicao(endpoint, dados) e configurar(config).\n",
        "Implemente duas classes concretas API_REST e API_GraphQL que herdam de API e implementam todos os métodos.\n",
        "\n",
        "Teste chamando os métodos em ambas classes.\n",
        "Garanta que a classe base não possa ser instanciada e que as filhas sejam obrigadas a implementar tudo."
      ],
      "metadata": {
        "id": "ChUYfLUXDH6F"
      }
    },
    {
      "cell_type": "code",
      "source": [
        "from abc import ABC, abstractmethod\n",
        "\n",
        "class API(ABC):\n",
        "    def __init__(self):\n",
        "        self.api = \"\"\n",
        "\n",
        "    @abstractmethod\n",
        "    def autenticacao(self, token):\n",
        "        pass\n",
        "\n",
        "    @abstractmethod\n",
        "    def enviar_requisicao(self, endpoint, dados):\n",
        "        pass\n",
        "\n",
        "    @abstractmethod\n",
        "    def configurar(self, config):\n",
        "        pass\n",
        "\n",
        "class API_REST(API):\n",
        "    def __init__(self):\n",
        "        super().__init__()\n",
        "\n",
        "    def autenticacao(self, token):\n",
        "        if token == \"valid_token\":\n",
        "            print(\"Autenticação válida\")\n",
        "        else:\n",
        "            print(\"Token inválido\")\n",
        "\n",
        "    def enviar_requisicao(self, endpoint, dados):\n",
        "        print(f\"Enviando requisição REST para {endpoint} com dados {dados}\")\n",
        "        return {\"status\": \"sucesso\"}\n",
        "\n",
        "    def configurar(self, config):\n",
        "        print(f\"Configurando API REST com {config}\")\n",
        "        self.api = \"REST configurada\"\n",
        "\n",
        "class API_GraphQL(API):\n",
        "    def __init__(self):\n",
        "        super().__init__()\n",
        "\n",
        "    def autenticacao(self, token):\n",
        "        if token == \"graphql_token\":\n",
        "            print(\"Autenticação GraphQL válida\")\n",
        "        else:\n",
        "            print(\"Token GraphQL inválido\")\n",
        "\n",
        "    def enviar_requisicao(self, endpoint, dados):\n",
        "        print(f\"Enviando requisição GraphQL para {endpoint} com dados {dados}\")\n",
        "        return {\"status\": \"sucesso\"}\n",
        "\n",
        "    def configurar(self, config):\n",
        "        print(f\"Configurando API GraphQL com {config}\")\n",
        "        self.api = \"GraphQL configurada\"\n",
        "\n",
        "\n",
        "apis = [API_REST(), API_GraphQL()]\n",
        "\n",
        "for api in apis:\n",
        "    api.configurar({\"timeout\": 30})\n",
        "    api.autenticacao(\"valid_token\")\n",
        "    resposta = api.enviar_requisicao(\"/endpoint\", {\"chave\": \"valor\"})\n",
        "    print(\"Resposta:\", resposta)\n"
      ],
      "metadata": {
        "colab": {
          "base_uri": "https://localhost:8080/"
        },
        "id": "HRi60_7UDKEf",
        "outputId": "248a9315-a4ea-45f9-8804-9c6c9d335b14"
      },
      "execution_count": 2,
      "outputs": [
        {
          "output_type": "stream",
          "name": "stdout",
          "text": [
            "Configurando API REST com {'timeout': 30}\n",
            "Autenticação válida\n",
            "Enviando requisição REST para /endpoint com dados {'chave': 'valor'}\n",
            "Resposta: {'status': 'sucesso'}\n",
            "Configurando API GraphQL com {'timeout': 30}\n",
            "Token GraphQL inválido\n",
            "Enviando requisição GraphQL para /endpoint com dados {'chave': 'valor'}\n",
            "Resposta: {'status': 'sucesso'}\n"
          ]
        }
      ]
    }
  ]
}