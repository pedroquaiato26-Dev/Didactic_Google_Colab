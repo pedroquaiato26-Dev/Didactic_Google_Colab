{
  "nbformat": 4,
  "nbformat_minor": 0,
  "metadata": {
    "colab": {
      "provenance": [],
      "toc_visible": true,
      "authorship_tag": "ABX9TyMJpSzOY7O3tOHzV8fN1wlm",
      "include_colab_link": true
    },
    "kernelspec": {
      "name": "python3",
      "display_name": "Python 3"
    },
    "language_info": {
      "name": "python"
    }
  },
  "cells": [
    {
      "cell_type": "markdown",
      "metadata": {
        "id": "view-in-github",
        "colab_type": "text"
      },
      "source": [
        "<a href=\"https://colab.research.google.com/github/pedroquaiato26-Dev/Didactic_Google_Colab/blob/main/Python_Concepts.ipynb\" target=\"_parent\"><img src=\"https://colab.research.google.com/assets/colab-badge.svg\" alt=\"Open In Colab\"/></a>"
      ]
    },
    {
      "cell_type": "markdown",
      "source": [
        "# Introdução ao Python"
      ],
      "metadata": {
        "id": "FpWsi7mt3z51"
      }
    },
    {
      "cell_type": "markdown",
      "source": [
        "Python é uma linguagem de programação criada no final dos anos 1980 por um cara chamado Guido van Rossum, na Holanda. Ele trabalhava no Centro para Matemática e Informática (CWI) e queria uma linguagem que fosse simples de escrever, fácil de entender, mas ainda poderosa o suficiente pra fazer qualquer coisa — desde scripts simples até sistemas mais complexos.\n",
        "\n",
        "Ele batizou a linguagem de Python em homenagem ao grupo de comédia britânico Monty Python (não tem nada a ver com cobra, mesmo que o logo às vezes confunda). A ideia era que a linguagem fosse divertida de usar, e não só útil."
      ],
      "metadata": {
        "id": "DWio3cgA4qwF"
      }
    },
    {
      "cell_type": "markdown",
      "source": [
        "## Como o Python funciona na prática"
      ],
      "metadata": {
        "id": "glc-ulj-4vLq"
      }
    },
    {
      "cell_type": "markdown",
      "source": [
        "**1. Interpretação** – Python não é compilado como C ou Java. Ele é interpretado, o que significa que o interpretador (normalmente o CPython) lê o código linha por linha e executa em tempo real.\n",
        "\n",
        "**2. Bytecode** – O código é convertido pra um bytecode intermediário (.pyc), que é uma versão mais rápida de ser interpretada.\n",
        "\n",
        "**3. Máquina virtual** – Esse bytecode roda na Python Virtual Machine (PVM), que executa o código no seu sistema operacional.\n",
        "\n",
        "**4. Bibliotecas** – Python vem com uma tonelada de bibliotecas nativas e ainda tem acesso ao PyPI, um repositório com mais de 400 mil pacotes, onde tem desde coisas simples como requests pra fazer chamadas HTTP, até pandas, tensorflow, pygame, e por aí vai."
      ],
      "metadata": {
        "id": "SQjM_Hvu479y"
      }
    },
    {
      "cell_type": "markdown",
      "source": [
        "## Como o Python funciona por de baixo dos panos"
      ],
      "metadata": {
        "id": "t7Gk1Mvq7Mn0"
      }
    },
    {
      "cell_type": "markdown",
      "source": [
        "Quando um script Python é executado via **CPython**, o código-fonte é primeiramente **transformado em tokens léxicos**, depois em uma **AST** (Abstract Syntax Tree), em seguida compilado para **bytecode** (instruções intermediárias específicas da VM), e finalmente **interpretado pela PVM** (Python Virtual Machine). A gestão de memória é feita com contagem de referências e coleta de lixo via GC (Garbage Collector). Todo o sistema é implementado em C, com tipos dinâmicos, late binding e sem compilação para código nativo — o que impõe limites de performance."
      ],
      "metadata": {
        "id": "BGvhW5NA7XNY"
      }
    },
    {
      "cell_type": "markdown",
      "source": [
        "### 1. Tokenização e Parsing"
      ],
      "metadata": {
        "id": "wrv-ETsP72D6"
      }
    },
    {
      "cell_type": "markdown",
      "source": [
        "* O código .py é lido como uma string bruta.\n",
        "\n",
        "* Um lexer (scanner léxico) do módulo tokenize quebra a string em tokens: nomes, operadores, números, strings, etc.\n",
        "\n",
        "* Esses tokens alimentam o parser, que gera uma AST (Abstract Syntax Tree), uma representação hierárquica da estrutura gramatical do programa.\n",
        "\n",
        "* A AST segue uma gramática LL(1) definida em Grammar/Grammar dentro do repositório CPython.\n",
        "\n",
        "Exemplo da AST:"
      ],
      "metadata": {
        "id": "nFpS3Muy764e"
      }
    },
    {
      "cell_type": "code",
      "source": [
        "x = 1 + 2"
      ],
      "metadata": {
        "id": "Zi8ROLlt8RCl"
      },
      "execution_count": null,
      "outputs": []
    },
    {
      "cell_type": "markdown",
      "source": [
        "vira:"
      ],
      "metadata": {
        "id": "dqCIvLhf8T0A"
      }
    },
    {
      "cell_type": "code",
      "source": [
        "Assign(\n",
        "  targets=[Name(id='x', ctx=Store())],\n",
        "  value=BinOp(left=Constant(1), op=Add(), right=Constant(2))\n",
        ")"
      ],
      "metadata": {
        "id": "CI7VM-3B8VPM"
      },
      "execution_count": null,
      "outputs": []
    },
    {
      "cell_type": "markdown",
      "source": [
        "### 2. Compilação para Bytecode"
      ],
      "metadata": {
        "id": "_VYkXTtD8b7b"
      }
    },
    {
      "cell_type": "markdown",
      "source": [
        "* A AST é passada para o compilador interno (compile()), que gera bytecode.\n",
        "\n",
        "* O bytecode é um conjunto de instruções específicas da Python Virtual Machine (PVM).\n",
        "\n",
        "* Exemplo de instruções: LOAD_CONST, STORE_NAME, BINARY_ADD."
      ],
      "metadata": {
        "id": "yIM9ol2H8e2T"
      }
    },
    {
      "cell_type": "markdown",
      "source": [
        "Com **dis**:"
      ],
      "metadata": {
        "id": "mRITNNan8nkp"
      }
    },
    {
      "cell_type": "code",
      "source": [
        "import dis\n",
        "dis.dis(\"x = 1 + 2\")"
      ],
      "metadata": {
        "colab": {
          "base_uri": "https://localhost:8080/"
        },
        "id": "XRN-d3H48s1x",
        "outputId": "7d62c6b1-8459-49fd-ed40-39dcbf95fdb6"
      },
      "execution_count": null,
      "outputs": [
        {
          "output_type": "stream",
          "name": "stdout",
          "text": [
            "  0           0 RESUME                   0\n",
            "\n",
            "  1           2 LOAD_CONST               0 (3)\n",
            "              4 STORE_NAME               0 (x)\n",
            "              6 LOAD_CONST               1 (None)\n",
            "              8 RETURN_VALUE\n"
          ]
        }
      ]
    },
    {
      "cell_type": "markdown",
      "source": [
        "Essas linhas são bytecodes — um tipo de \"linguagem de máquina virtual\".\n",
        "Elas são geradas pelo compilador interno do CPython, que pega teu código .py e transforma ele em opcodes e argumentos, armazenados em um objeto do tipo code.\n",
        "\n",
        "TL;DR: São instruções para a máquina virtual do Python (PVM), parecidas com Assembly, mas específicas do Python."
      ],
      "metadata": {
        "id": "LEtql34O9HGD"
      }
    },
    {
      "cell_type": "markdown",
      "source": [
        "### 3. Execução via PVM (Python Virtual Machine)"
      ],
      "metadata": {
        "id": "52Ixm_Qa9ORa"
      }
    },
    {
      "cell_type": "markdown",
      "source": [
        "* **A PVM** é um loop escrito em C que lê as instruções de bytecode uma a uma.\n",
        "\n",
        "* Cada opcode chama uma função C que executa a operação correspondente.\n",
        "\n",
        "* Não há tradução para código nativo (exceto em PyPy ou via Cython).\n",
        "\n",
        "* O dispatcher da PVM é comumente um switch-case gigante em ceval.c."
      ],
      "metadata": {
        "id": "KRj0VuDN9SR1"
      }
    },
    {
      "cell_type": "markdown",
      "source": [
        "### 4. Sistema de Objetos e Tipagem Dinâmica"
      ],
      "metadata": {
        "id": "n7JZZif7AJeW"
      }
    },
    {
      "cell_type": "markdown",
      "source": [
        "* Tudo em Python é um objeto (PyObject* em C).\n",
        "\n",
        "* Variáveis são referências (ponteiros) para essas estruturas PyObject.\n",
        "\n",
        "* A resolução de nomes é feita via tabelas de símbolos (namespaces) — dicionários (dict) que representam escopos (locals(), globals()).\n",
        "\n",
        "* Tipagem é dinâmica, com late binding: o tipo de uma variável só é checado em tempo de execução, e funções/métodos são resolvidos via MRO (Method Resolution Order) na C3 linearização da herança."
      ],
      "metadata": {
        "id": "dgh6WO-PAMfr"
      }
    },
    {
      "cell_type": "markdown",
      "source": [
        "### 5. Gerenciamento de Memória"
      ],
      "metadata": {
        "id": "JN44wsttBdQP"
      }
    },
    {
      "cell_type": "markdown",
      "source": [
        "* **Contagem de Referência** (refcount): cada PyObject tem um contador (ob_refcnt).\n",
        "\n",
        "* Se o contador chega a zero, o objeto é destruído.\n",
        "\n",
        "* **Garbage Collector** (GC): detecta ciclos de referência que o refcount não pega, com algoritmo generacional (3 gerações).\n",
        "\n",
        "* Alocação de memória vem do pymalloc, uma arena de alocação eficiente interna ao CPython."
      ],
      "metadata": {
        "id": "lqO9f5zABfob"
      }
    },
    {
      "cell_type": "markdown",
      "source": [
        "### 6. Imports, Módulos e Bytecode Cache"
      ],
      "metadata": {
        "id": "rh96pLyUBweN"
      }
    },
    {
      "cell_type": "markdown",
      "source": [
        "* Ao importar um módulo, Python compila ele em bytecode (.pyc) e salva em __pycache__.\n",
        "\n",
        "* Isso acelera execuções futuras, evitando recompilar a AST.\n",
        "\n",
        "* A execução do bytecode sempre passa pela PVM, mesmo via .pyc."
      ],
      "metadata": {
        "id": "ueVs2oYPByx5"
      }
    },
    {
      "cell_type": "markdown",
      "source": [
        "## Fundamentos da linguagem"
      ],
      "metadata": {
        "id": "nAsRJd_0Hp45"
      }
    },
    {
      "cell_type": "markdown",
      "source": [
        "### 1. Variáveis"
      ],
      "metadata": {
        "id": "lkht3HHzNHc9"
      }
    },
    {
      "cell_type": "markdown",
      "source": [
        "Uma variável é um nome que aponta pra um valor guardado na memória. Em Python, você não declara o tipo explicitamente. O tipo é inferido."
      ],
      "metadata": {
        "id": "1MmLY-_5NR26"
      }
    },
    {
      "cell_type": "code",
      "source": [
        "nome = \"Pedro\"\n",
        "idade = 17\n",
        "tem_carro = False"
      ],
      "metadata": {
        "id": "81FtotQeNV2l"
      },
      "execution_count": null,
      "outputs": []
    },
    {
      "cell_type": "markdown",
      "source": [
        "* Toda variável em Python é um rótulo que aponta para um objeto.\n",
        "\n",
        "* Python é dinamicamente tipado: o tipo é determinado automaticamente com base no valor.\n",
        "\n",
        "* Você pode mudar o valor e até o tipo da variável depois."
      ],
      "metadata": {
        "id": "DNgUKLrtNegF"
      }
    },
    {
      "cell_type": "code",
      "source": [
        "x = 10        # int\n",
        "x = \"texto\"   # agora é str"
      ],
      "metadata": {
        "id": "_nUDCPJtN61w"
      },
      "execution_count": null,
      "outputs": []
    },
    {
      "cell_type": "markdown",
      "source": [
        "* *“Variável”* vem do latim *variabilis*, que significa “que pode mudar”.\n",
        "\n",
        "* Em programação, ela serve pra guardar valores que podem mudar ao longo da execução."
      ],
      "metadata": {
        "id": "TMCTocE_OA2O"
      }
    },
    {
      "cell_type": "markdown",
      "source": [
        "### 2. Tipos primitivos"
      ],
      "metadata": {
        "id": "3pYzNmrUOrM6"
      }
    },
    {
      "cell_type": "markdown",
      "source": [
        "Os tipos mais básicos que existem em Python, usados no dia a dia."
      ],
      "metadata": {
        "id": "J2eyDw5_O7X4"
      }
    },
    {
      "cell_type": "markdown",
      "source": [
        "* **int**\t  10\tNúmero inteiro\n",
        "\n",
        "* **float**\t  3.14\tNúmero com ponto (real)\n",
        "\n",
        "* **str**\t    \"texto\"\tTexto (string)\n",
        "\n",
        "* **bool**\t  True / False\tLógico (booleano)"
      ],
      "metadata": {
        "id": "3WH04rQ1O_98"
      }
    },
    {
      "cell_type": "code",
      "source": [
        "a = 5           # int\n",
        "b = 3.14        # float\n",
        "c = \"Pedro\"     # str\n",
        "d = True        # bool"
      ],
      "metadata": {
        "id": "h8fEZhr1Pcto"
      },
      "execution_count": null,
      "outputs": []
    },
    {
      "cell_type": "markdown",
      "source": [
        "* São **objetos imutáveis** (não podem ser alterados diretamente).\n",
        "\n",
        "* Python tem **tipagem forte**: você não pode fazer 3 + \"texto\" sem erro.\n",
        "\n",
        "* **“Primitivo”** porque são os tipos mais básicos, o \"tijolo\" inicial de qualquer linguagem.\n",
        "\n",
        "* bool vem de George Boole, matemático que criou a álgebra booleana."
      ],
      "metadata": {
        "id": "63kSViU7PjT_"
      }
    },
    {
      "cell_type": "markdown",
      "source": [
        "### 3. Operadores Aritméticos"
      ],
      "metadata": {
        "id": "sOcoBq7aQ6j6"
      }
    },
    {
      "cell_type": "markdown",
      "source": [
        "* Operadores são funções sob o capô (por exemplo, a + b chama a.__add__(b)).\n",
        "\n",
        "* Permitem que objetos sobrecarreguem comportamentos (como + pra strings)."
      ],
      "metadata": {
        "id": "sdYBg_phRAQB"
      }
    },
    {
      "cell_type": "markdown",
      "source": [
        "| Operador   | Significado         | Exemplo            | Resultado           |\n",
        "|------------|---------------------|--------------------|---------------------|\n",
        "| `+`        | Soma                | `10 + 5`           | `15`                |\n",
        "| `-`        | Subtração           | `10 - 3`           | `7`                 |\n",
        "| `*`        | Multiplicação       | `4 * 3`            | `12`                |\n",
        "| `/`        | Divisão real        | `10 / 4`           | `2.5`               |\n",
        "| `//`       | Divisão inteira     | `10 // 4`          | `2`                 |\n",
        "| `%`        | Módulo (resto)      | `10 % 3`           | `1`                 |\n",
        "| `**`       | Potência            | `2 ** 3`           | `8`                 |\n",
        "| `@`        | Multiplicação matriz| `A @ B`            | Depende das matrizes |\n",
        "| `+=`       | Soma in-place       | `a += 3`           | Depende de `a`       |\n",
        "| `-=`       | Subtração in-place  | `a -= 2`           | Depende de `a`       |\n",
        "| `*=`       | Multiplicação in-place | `a *= 4`        | Depende de `a`       |\n",
        "| `/=`       | Divisão real in-place | `a /= 2`          | Depende de `a`       |\n",
        "| `//=`      | Divisão inteira in-place | `a //= 2`      | Depende de `a`       |\n",
        "| `%=`       | Módulo in-place     | `a %= 3`           | Depende de `a`       |\n",
        "| `**=`      | Potência in-place   | `a **= 2`          | Depende de `a`       |\n",
        "| `-` (unário)| Negação unária     | `-a`               | Depende de `a`       |\n",
        "| `+` (unário)| Positivo unário    | `+a`               | Depende de `a`       |\n",
        "| `abs()`    | Valor absoluto      | `abs(-5)`          | `5`                 |\n"
      ],
      "metadata": {
        "id": "SAfaUANdQqyL"
      }
    },
    {
      "cell_type": "code",
      "source": [
        "print(10 + 2)     # 12\n",
        "print(10 // 3)    # 3\n",
        "print(2 ** 4)     # 16\n",
        "\n",
        "# exemplo de funções de operadores para utilizar (dunder methods)\n",
        "\n",
        "num1 = 10\n",
        "num2 = 12\n",
        "\n",
        "result_add = num1.__add__(num2) # adição\n",
        "\n",
        "result_multi = num1.__mul__(num2) # multiplicação\n"
      ],
      "metadata": {
        "colab": {
          "base_uri": "https://localhost:8080/"
        },
        "id": "LB57wczZRS1E",
        "outputId": "bc941491-4664-42ee-d856-4d26c0ea2cad"
      },
      "execution_count": null,
      "outputs": [
        {
          "output_type": "stream",
          "name": "stdout",
          "text": [
            "12\n",
            "3\n",
            "16\n",
            "120\n"
          ]
        }
      ]
    },
    {
      "cell_type": "markdown",
      "source": [
        "* São baseados na notação matemática padrão.\n",
        "\n",
        "* O // é chamado de \"floor division\", porque arredonda \"pro chão\"."
      ],
      "metadata": {
        "id": "dZbjmqx3RWbI"
      }
    },
    {
      "cell_type": "markdown",
      "source": [
        "| Método mágico | Operador usado      | Descrição                                               |\n",
        "|---------------|---------------------|---------------------------------------------------------|\n",
        "| `__add__`     | `obj + other`       | Soma (adição binária)                                   |\n",
        "| `__radd__`    | `other + obj`       | Soma reversa (quando o lado esquerdo não implementa)    |\n",
        "| `__iadd__`    | `obj += other`      | Soma in-place (modifica o objeto diretamente)           |\n",
        "| `__sub__`     | `obj - other`       | Subtração                                              |\n",
        "| `__rsub__`    | `other - obj`       | Subtração reversa                                     |\n",
        "| `__isub__`    | `obj -= other`      | Subtração in-place                                    |\n",
        "| `__mul__`     | `obj * other`       | Multiplicação                                         |\n",
        "| `__rmul__`    | `other * obj`       | Multiplicação reversa                                 |\n",
        "| `__imul__`    | `obj *= other`      | Multiplicação in-place                                |\n",
        "| `__matmul__`  | `obj @ other`       | Multiplicação de matriz (álgebra linear)             |\n",
        "| `__rmatmul__` | `other @ obj`       | Matriz reversa                                        |\n",
        "| `__imatmul__` | `obj @= other`      | Matriz in-place                                       |\n",
        "| `__truediv__` | `obj / other`       | Divisão real (float)                                  |\n",
        "| `__rtruediv__`| `other / obj`       | Divisão real reversa                                  |\n",
        "| `__itruediv__`| `obj /= other`      | Divisão real in-place                                 |\n",
        "| `__floordiv__`| `obj // other`      | Divisão inteira (sem decimais)                        |\n",
        "| `__rfloordiv__`| `other // obj`     | Divisão inteira reversa                               |\n",
        "| `__ifloordiv__`| `obj //= other`    | Divisão inteira in-place                              |\n",
        "| `__mod__`     | `obj % other`       | Módulo (resto da divisão)                             |\n",
        "| `__rmod__`    | `other % obj`       | Módulo reverso                                        |\n",
        "| `__imod__`    | `obj %= other`      | Módulo in-place                                       |\n",
        "| `__pow__`     | `obj ** other`      | Potência (exponenciação)                              |\n",
        "| `__rpow__`    | `other ** obj`      | Potência reversa                                      |\n",
        "| `__ipow__`    | `obj **= other`     | Potência in-place                                     |\n",
        "| `__neg__`     | `-obj`              | Negação unária (retorna o negativo)                   |\n",
        "| `__pos__`     | `+obj`              | Positivo unário (sem efeito, mas pode ser sobrescrito)|\n",
        "| `__abs__`     | `abs(obj)`          | Valor absoluto                                        |\n"
      ],
      "metadata": {
        "id": "6n556h-yVv8I"
      }
    },
    {
      "cell_type": "markdown",
      "source": [
        "### 4. Operadores de Comparação"
      ],
      "metadata": {
        "id": "fwBOYimAZLMl"
      }
    },
    {
      "cell_type": "markdown",
      "source": [
        "* Sempre retornam um valor booleano (True ou False).\n",
        "\n",
        "* São binários: operam entre dois valores.\n",
        "\n",
        "* A maioria vem da matemática.\n",
        "\n",
        "* **==** é diferente de = porque = é atribuição (guardar valor), enquanto **==** é comparação.\n",
        "\n"
      ],
      "metadata": {
        "id": "aEiSfKDtaNL_"
      }
    },
    {
      "cell_type": "markdown",
      "source": [
        "| Operador | Significado        | Exemplo      | Resultado | Descrição técnica                          |\n",
        "|----------|--------------------|--------------|-----------|--------------------------------------------|\n",
        "| `==`     | Igual a            | 5 == 5       | True      | Retorna True se os valores forem iguais    |\n",
        "| `!=`     | Diferente de       | 5 != 3       | True      | Retorna True se os valores forem diferentes|\n",
        "| `<`      | Menor que          | 3 < 7        | True      | Retorna True se o valor da esquerda for menor |\n",
        "| `>`      | Maior que          | 10 > 4       | True      | Retorna True se o valor da esquerda for maior |\n",
        "| `<=`     | Menor ou igual     | 4 <= 4       | True      | True se menor ou igual                     |\n",
        "| `>=`     | Maior ou igual     | 6 >= 8       | False     | True se maior ou igual                     |\n"
      ],
      "metadata": {
        "id": "8FBDFLHvZ7Ms"
      }
    },
    {
      "cell_type": "markdown",
      "source": [
        "### 5. Operadores Lógicos"
      ],
      "metadata": {
        "id": "DxAkbeH4a59p"
      }
    },
    {
      "cell_type": "markdown",
      "source": [
        "* São **curto-circuitados**: **and** para se o primeiro for falso, **or** para se o primeiro for verdadeiro.\n",
        "\n",
        "* Avaliam expressões booleanas."
      ],
      "metadata": {
        "id": "kW1By8YHbZ6b"
      }
    },
    {
      "cell_type": "markdown",
      "source": [
        "| Operador | Significado | Exemplo              | Resultado | Descrição técnica                                         |\n",
        "|----------|-------------|----------------------|-----------|-----------------------------------------------------------|\n",
        "| `and`    | E lógico    | True and False       | False     | Retorna True se ambos os valores forem True               |\n",
        "| `or`     | OU lógico   | True or False        | True      | Retorna True se pelo menos um for True                    |\n",
        "| `not`    | Negação     | not True             | False     | Inverte o valor lógico                                    |\n"
      ],
      "metadata": {
        "id": "F371sWB_bQ8w"
      }
    },
    {
      "cell_type": "code",
      "source": [
        "a = True\n",
        "b = False\n",
        "print(a and b)  # False\n",
        "print(a or b)   # True\n",
        "print(not b)    # True"
      ],
      "metadata": {
        "colab": {
          "base_uri": "https://localhost:8080/"
        },
        "id": "sgHy0PD9cPaE",
        "outputId": "31b1d492-6463-4381-fdeb-5d04e1824d9e"
      },
      "execution_count": null,
      "outputs": [
        {
          "output_type": "stream",
          "name": "stdout",
          "text": [
            "False\n",
            "True\n",
            "True\n"
          ]
        }
      ]
    },
    {
      "cell_type": "markdown",
      "source": [
        "### 6. Operadores de Atribuição"
      ],
      "metadata": {
        "id": "DgdhQfOqcvHl"
      }
    },
    {
      "cell_type": "markdown",
      "source": [
        "Checam pertinência de um valor dentro de uma estrutura."
      ],
      "metadata": {
        "id": "MimM7cTdhCPo"
      }
    },
    {
      "cell_type": "markdown",
      "source": [
        "| Operador | Significado    | Exemplo              | Resultado | Descrição técnica                               |\n",
        "|----------|----------------|----------------------|-----------|-------------------------------------------------|\n",
        "| `in`     | Contido em     | 'a' in 'abc'         | True      | Verifica se está presente na sequência          |\n",
        "| `not in` | Não contido    | 'd' not in 'abc'     | True      | Verifica se não está presente na sequência      |\n"
      ],
      "metadata": {
        "id": "qB1bmSjChExY"
      }
    },
    {
      "cell_type": "markdown",
      "source": [
        "* Funciona com *str*, *list*, *dict*, *set*, *tuple*.\n",
        "\n",
        "* Internamente usa **__ contains __.**"
      ],
      "metadata": {
        "id": "zjQxYOu0hIMo"
      }
    },
    {
      "cell_type": "markdown",
      "source": [
        "### 7. Operadores Bitwise (bit a bit)"
      ],
      "metadata": {
        "id": "BSpBTRQ4itsI"
      }
    },
    {
      "cell_type": "markdown",
      "source": [
        "Manipulam diretamente os bits de inteiros. Útil para baixo nível, flags, performance."
      ],
      "metadata": {
        "id": "_Vz0Mt5_jI2v"
      }
    },
    {
      "cell_type": "markdown",
      "source": [
        "| Operador | Significado        | Exemplo   | Resultado | Descrição técnica                                 |\n",
        "|----------|--------------------|-----------|-----------|---------------------------------------------------|\n",
        "| `&`      | E bit a bit        | 5 & 3     | 1         | Bit 1 se ambos os bits forem 1                   |\n",
        "| `|`      | OU bit a bit       | 5 | 3     | 7         | Bit 1 se pelo menos um for 1                     |\n",
        "| `^`      | XOR bit a bit      | 5 ^ 3     | 6         | Bit 1 se os bits forem diferentes                |\n",
        "| `~`      | NOT bit a bit      | ~5        | -6        | Inverte todos os bits                            |\n",
        "| `<<`     | Desloca para esq   | 5 << 1    | 10        | Multiplica por 2 (bit shift)                     |\n",
        "| `>>`     | Desloca para dir   | 5 >> 1    | 2         | Divide por 2 (bit shift à direita, truncando)   |\n"
      ],
      "metadata": {
        "id": "yLLzkrKEjKdI"
      }
    },
    {
      "cell_type": "markdown",
      "source": [
        "* Operam apenas com inteiros (int).\n",
        "\n",
        "* **~x** equivale a -(x+1) em complemento de dois (binário negativo).\n",
        "\n"
      ],
      "metadata": {
        "id": "pU7m1yDRjaIv"
      }
    },
    {
      "cell_type": "markdown",
      "source": [
        "### 8. Função input()"
      ],
      "metadata": {
        "id": "ChfW_0YVkLi6"
      }
    },
    {
      "cell_type": "markdown",
      "source": [
        "Lê um dado digitado pelo usuário e retorna como string.\n",
        "\n",
        "Exemplo:"
      ],
      "metadata": {
        "id": "MpTxRcMYkxtr"
      }
    },
    {
      "cell_type": "code",
      "source": [
        "nome = input(\"Qual seu nome? \")\n",
        "print(\"Olá,\", nome)"
      ],
      "metadata": {
        "colab": {
          "base_uri": "https://localhost:8080/"
        },
        "id": "b7Ijuwx9k3rT",
        "outputId": "f92743b7-454b-420d-b5aa-1cd403c96875"
      },
      "execution_count": null,
      "outputs": [
        {
          "output_type": "stream",
          "name": "stdout",
          "text": [
            "Qual seu nome? Pedro\n",
            "Olá, Pedro\n"
          ]
        }
      ]
    },
    {
      "cell_type": "markdown",
      "source": [
        "* Sempre retorna uma str.\n",
        "\n",
        "* Se quiser número, tem que converter: int(input(\"Idade: \"))\n",
        "\n",
        "* Vem do termo **“input”** = entrada de dados (oposto de “output” = saída)."
      ],
      "metadata": {
        "id": "XiO-mr4Ok75D"
      }
    },
    {
      "cell_type": "markdown",
      "source": [
        "### 9. Conversão de Tipos"
      ],
      "metadata": {
        "id": "rSxRy0XulDsE"
      }
    },
    {
      "cell_type": "markdown",
      "source": [
        "Transforma um valor de um tipo para outro.\n",
        "\n",
        "Exemplo:"
      ],
      "metadata": {
        "id": "RYUN_tTLlH9D"
      }
    },
    {
      "cell_type": "code",
      "source": [
        "idade = \"17\"\n",
        "idade = int(idade)  # agora é número"
      ],
      "metadata": {
        "id": "YvB2jb6JlLgj"
      },
      "execution_count": null,
      "outputs": []
    },
    {
      "cell_type": "markdown",
      "source": [
        "* int(), float(), str(), bool()\n",
        "\n",
        "* Python permite casting explícito (você que converte), diferente de linguagens que fazem implícito.\n",
        "\n",
        "* str(5) cria um novo objeto do tipo string com o valor \"5\".\n",
        "\n",
        "* *“Casting”* vem do inglês *“to cast”* = moldar, transformar algo em outro formato."
      ],
      "metadata": {
        "id": "-T7IzhgXlcrk"
      }
    },
    {
      "cell_type": "markdown",
      "source": [
        "## Controle de Fluxo."
      ],
      "metadata": {
        "id": "bXbxInHJlqHb"
      }
    },
    {
      "cell_type": "markdown",
      "source": [
        "### 1. if, elif, else"
      ],
      "metadata": {
        "id": "vaRsvwC1mJbz"
      }
    },
    {
      "cell_type": "markdown",
      "source": [
        "**São estruturas condicionais**: permitem executar um bloco de código apenas se uma condição for verdadeira.\n",
        "\n",
        "Exemplo:"
      ],
      "metadata": {
        "id": "Ofg3LdvFmOL7"
      }
    },
    {
      "cell_type": "code",
      "source": [
        "idade = 17\n",
        "\n",
        "if idade >= 18:\n",
        "    print(\"Você é maior de idade.\")\n",
        "elif idade >= 16:\n",
        "    print(\"Você pode votar, mas não dirigir.\")\n",
        "else:\n",
        "    print(\"Você é menor de idade.\")"
      ],
      "metadata": {
        "colab": {
          "base_uri": "https://localhost:8080/"
        },
        "id": "w95iDLRrmQts",
        "outputId": "542e46cd-06f0-4ec0-bbd0-af1fb3ae2d85"
      },
      "execution_count": null,
      "outputs": [
        {
          "output_type": "stream",
          "name": "stdout",
          "text": [
            "Você pode votar, mas não dirigir.\n"
          ]
        }
      ]
    },
    {
      "cell_type": "markdown",
      "source": [
        "* **O if** é testado primeiro.\n",
        "\n",
        "* **O elif** (\"else if\") só é avaliado se o if for falso.\n",
        "\n",
        "* **O else** é executado se todas as condições anteriores forem falsas.\n",
        "\n",
        "* Python usa indentação obrigatória pra definir blocos."
      ],
      "metadata": {
        "id": "RBNaV48JmXyL"
      }
    },
    {
      "cell_type": "markdown",
      "source": [
        "* **if** vem do inglês \"se\".\n",
        "\n",
        "* **elif** é contração de \"else if\" (senão, se...).\n",
        "\n",
        "* **else** significa \"senão\"."
      ],
      "metadata": {
        "id": "OfKW7zG8mgW0"
      }
    },
    {
      "cell_type": "markdown",
      "source": [
        "### 2. while"
      ],
      "metadata": {
        "id": "HjSOTETfmnJM"
      }
    },
    {
      "cell_type": "markdown",
      "source": [
        "Executa um bloco de código enquanto uma condição for verdadeira.\n",
        "\n",
        "Exemplo:"
      ],
      "metadata": {
        "id": "xDzdSqyKmtFL"
      }
    },
    {
      "cell_type": "code",
      "source": [
        "contador = 0\n",
        "while contador < 5:\n",
        "    print(\"Contador:\", contador)\n",
        "    contador += 1"
      ],
      "metadata": {
        "colab": {
          "base_uri": "https://localhost:8080/"
        },
        "id": "LgtzJyURmxMr",
        "outputId": "d8a01a98-cefa-42ec-a2fb-545be11501bd"
      },
      "execution_count": null,
      "outputs": [
        {
          "output_type": "stream",
          "name": "stdout",
          "text": [
            "Contador: 0\n",
            "Contador: 1\n",
            "Contador: 2\n",
            "Contador: 3\n",
            "Contador: 4\n"
          ]
        }
      ]
    },
    {
      "cell_type": "markdown",
      "source": [
        "* Pode gerar loops infinitos se a condição nunca for falsa.\n",
        "\n",
        "* Muito usado quando não sabemos quantas vezes repetir, mas sabemos a condição.\n",
        "\n",
        "* *while* vem do inglês \"enquanto\"."
      ],
      "metadata": {
        "id": "Fl3Ns2NEm3fE"
      }
    },
    {
      "cell_type": "markdown",
      "source": [
        "### 3. for"
      ],
      "metadata": {
        "id": "nTa9T543nBHj"
      }
    },
    {
      "cell_type": "markdown",
      "source": [
        "**Percorre (itera)** sobre qualquer objeto iterável (lista, string, range, etc.).\n",
        "\n",
        "Exemplo:"
      ],
      "metadata": {
        "id": "vFRhvHtgnHYL"
      }
    },
    {
      "cell_type": "code",
      "source": [
        "for letra in \"Pedro\":\n",
        "    print(letra)"
      ],
      "metadata": {
        "id": "7I1FIveJnLz8"
      },
      "execution_count": null,
      "outputs": []
    },
    {
      "cell_type": "markdown",
      "source": [
        "* Em Python, o for não é como em C/Java (que conta números).\n",
        "Ele itera sobre elementos de um iterável.\n",
        "\n",
        "* Internamente chama iter() e next().\n",
        "\n",
        "* *for* vem do inglês “para cada”."
      ],
      "metadata": {
        "id": "F9nru-WEnN17"
      }
    },
    {
      "cell_type": "markdown",
      "source": [
        "### 4. range()"
      ],
      "metadata": {
        "id": "W3Nqc41xnZeL"
      }
    },
    {
      "cell_type": "markdown",
      "source": [
        "Função que gera uma sequência de números.\n",
        "\n",
        "Exemplos:"
      ],
      "metadata": {
        "id": "HUtZ_Np_ndIj"
      }
    },
    {
      "cell_type": "code",
      "source": [
        "for i in range(3):\n",
        "    print(i)  # 0, 1, 2\n",
        "\n",
        "\n",
        "for i in range(2, 6):\n",
        "    print(i)  # 2, 3, 4, 5\n",
        "\n",
        "\n",
        "for i in range(10, 0, -2):\n",
        "    print(i)  # 10, 8, 6, 4, 2"
      ],
      "metadata": {
        "id": "DNZHuS6wnheD"
      },
      "execution_count": null,
      "outputs": []
    },
    {
      "cell_type": "markdown",
      "source": [
        "* range(inicio, fim, passo)\n",
        "\n",
        "* Não cria lista, gera os números sob demanda (objeto iterável leve).\n",
        "\n",
        "* *range* = intervalo."
      ],
      "metadata": {
        "id": "8lgphuKtn0NT"
      }
    },
    {
      "cell_type": "markdown",
      "source": [
        "### 5. break"
      ],
      "metadata": {
        "id": "GKDFejKFn8ua"
      }
    },
    {
      "cell_type": "markdown",
      "source": [
        "Sai imediatamente de um loop (for ou while).\n",
        "\n",
        "Exemplo:"
      ],
      "metadata": {
        "id": "3hnQVDSVoAuS"
      }
    },
    {
      "cell_type": "code",
      "source": [
        "for i in range(10):\n",
        "    if i == 5:\n",
        "        break\n",
        "    print(i)"
      ],
      "metadata": {
        "colab": {
          "base_uri": "https://localhost:8080/"
        },
        "collapsed": true,
        "id": "dsGC7HXXoDkD",
        "outputId": "d9571ca8-0f5d-44b5-d553-1190ba6e4547"
      },
      "execution_count": null,
      "outputs": [
        {
          "output_type": "stream",
          "name": "stdout",
          "text": [
            "0\n",
            "1\n",
            "2\n",
            "3\n",
            "4\n"
          ]
        }
      ]
    },
    {
      "cell_type": "markdown",
      "source": [
        "* Encerra somente o loop onde está, não todos.\n",
        "\n",
        "* *break* = quebrar, interromper."
      ],
      "metadata": {
        "id": "yuPsScwKoUqi"
      }
    },
    {
      "cell_type": "markdown",
      "source": [
        "### 6. continue"
      ],
      "metadata": {
        "id": "kHV6zVxNoba5"
      }
    },
    {
      "cell_type": "markdown",
      "source": [
        "Pula o restante da iteração atual e vai para a próxima.\n",
        "\n",
        "Exemplo:"
      ],
      "metadata": {
        "id": "8cBYYiOzoeGR"
      }
    },
    {
      "cell_type": "code",
      "source": [
        "for i in range(5):\n",
        "    if i == 2:\n",
        "        continue\n",
        "    print(i)"
      ],
      "metadata": {
        "collapsed": true,
        "colab": {
          "base_uri": "https://localhost:8080/"
        },
        "id": "HwYUlGF7oi2p",
        "outputId": "377158d4-4c74-4f16-ad9a-afff1a68d6cd"
      },
      "execution_count": null,
      "outputs": [
        {
          "output_type": "stream",
          "name": "stdout",
          "text": [
            "0\n",
            "1\n",
            "3\n",
            "4\n"
          ]
        }
      ]
    },
    {
      "cell_type": "markdown",
      "source": [
        "* Não encerra o loop, só pula aquela vez.\n",
        "\n",
        "* *continue* = continuar (na próxima repetição)."
      ],
      "metadata": {
        "id": "RxKUjKlOomKw"
      }
    },
    {
      "cell_type": "markdown",
      "source": [
        "### 7. Operador Ternário"
      ],
      "metadata": {
        "id": "4qBjfe9_otk4"
      }
    },
    {
      "cell_type": "markdown",
      "source": [
        "Forma curta de escrever um if em uma linha.\n",
        "\n",
        "Exemplo:"
      ],
      "metadata": {
        "id": "hn-z6WuBowNZ"
      }
    },
    {
      "cell_type": "code",
      "source": [
        "idade = 20\n",
        "status = \"Maior\" if idade >= 18 else \"Menor\"\n",
        "print(status)"
      ],
      "metadata": {
        "colab": {
          "base_uri": "https://localhost:8080/"
        },
        "id": "2HYVJP6MozD5",
        "outputId": "3a679e87-fdd5-4044-df69-3a5ef6406efa"
      },
      "execution_count": null,
      "outputs": [
        {
          "output_type": "stream",
          "name": "stdout",
          "text": [
            "Maior\n"
          ]
        }
      ]
    },
    {
      "cell_type": "markdown",
      "source": [
        "* **Sintaxe:** *valor_se_verdadeiro if condicao else valor_se_falso*\n",
        "\n",
        "* Útil para atribuições rápidas.\n",
        "\n",
        "* Chamado \"ternário\" porque envolve 3 partes: **condição, valor se verdadeiro, valor se falso.**"
      ],
      "metadata": {
        "id": "h_vUF11kpEFp"
      }
    },
    {
      "cell_type": "markdown",
      "source": [
        "## Estruturas de dados"
      ],
      "metadata": {
        "id": "Ghmt9y4hpu9S"
      }
    },
    {
      "cell_type": "markdown",
      "source": [
        "### 1. Listas (list)"
      ],
      "metadata": {
        "id": "I1iRfLQapz93"
      }
    },
    {
      "cell_type": "markdown",
      "source": [
        "**Coleção ordenada**, **mutável** e que **aceita valores de tipos diferentes.**\n",
        "\n",
        "Exemplos:"
      ],
      "metadata": {
        "id": "LXLFgNEwp12x"
      }
    },
    {
      "cell_type": "code",
      "source": [
        "frutas = [\"maçã\", \"banana\", \"uva\"]\n",
        "frutas.append(\"laranja\")      # adiciona\n",
        "frutas[1] = \"pera\"            # altera\n",
        "print(frutas[0])              # acessa\n",
        "print(len(frutas))            # tamanho"
      ],
      "metadata": {
        "colab": {
          "base_uri": "https://localhost:8080/"
        },
        "id": "Dh2goVVRp7d5",
        "outputId": "ce5af1e7-b740-422c-cd59-9aea9b02ed38"
      },
      "execution_count": null,
      "outputs": [
        {
          "output_type": "stream",
          "name": "stdout",
          "text": [
            "maçã\n",
            "4\n"
          ]
        }
      ]
    },
    {
      "cell_type": "markdown",
      "source": [
        "* Lista é implementada como um **vetor dinâmico**.\n",
        "\n",
        "* **Mutável** = pode mudar valores, adicionar ou remover itens.\n",
        "\n",
        "* **A indexação começa no 0.**\n",
        "\n",
        "* **List** vem da ideia de lista de itens, como na vida real."
      ],
      "metadata": {
        "id": "ZqWl6CIaqRZx"
      }
    },
    {
      "cell_type": "markdown",
      "source": [
        "### 2. Tuplas (tuple)"
      ],
      "metadata": {
        "id": "iMO1oprLqhRJ"
      }
    },
    {
      "cell_type": "markdown",
      "source": [
        "**Coleção ordenada**, **imutável** e que aceita tipos diferentes.\n",
        "\n",
        "Exemplo:"
      ],
      "metadata": {
        "id": "qIhwBtAtr2h9"
      }
    },
    {
      "cell_type": "code",
      "source": [
        "ponto = (10, 20)\n",
        "print(ponto[0])  # 10\n",
        "# ponto[0] = 15  # ERRO: não pode alterar"
      ],
      "metadata": {
        "colab": {
          "base_uri": "https://localhost:8080/"
        },
        "id": "EiUckpeSr9LO",
        "outputId": "ad22f4ab-d863-4545-dd94-cf2c67c537de"
      },
      "execution_count": null,
      "outputs": [
        {
          "output_type": "stream",
          "name": "stdout",
          "text": [
            "10\n"
          ]
        }
      ]
    },
    {
      "cell_type": "markdown",
      "source": [
        "* Por ser imutável, é mais rápida e segura.\n",
        "\n",
        "* Pode ser usada como chave em dicionários (porque é hashable).\n",
        "\n",
        "* “Tuple” vem de “n-tuple” na matemática, que significa sequência de n elementos."
      ],
      "metadata": {
        "id": "uIWZWTzkr_iK"
      }
    },
    {
      "cell_type": "markdown",
      "source": [
        "### 3. Dicionários (dict) ou Tabela hash"
      ],
      "metadata": {
        "id": "IcCsSCCssKak"
      }
    },
    {
      "cell_type": "markdown",
      "source": [
        "**Coleção não ordenada** (em Python 3.7+ mantém ordem de inserção), mutável e **indexada por chaves únicas.**\n",
        "\n",
        " Exemplo:"
      ],
      "metadata": {
        "id": "AfQorWRtsYxc"
      }
    },
    {
      "cell_type": "code",
      "source": [
        "pessoa = {\"nome\": \"Pedro\", \"idade\": 17}\n",
        "print(pessoa[\"nome\"])       # Pedro\n",
        "pessoa[\"idade\"] = 18        # altera\n",
        "pessoa[\"cidade\"] = \"SP\"     # adiciona"
      ],
      "metadata": {
        "colab": {
          "base_uri": "https://localhost:8080/"
        },
        "id": "cJsZVQJ0shEN",
        "outputId": "1c6313f7-f363-4e80-9c19-226daa8edf7c"
      },
      "execution_count": null,
      "outputs": [
        {
          "output_type": "stream",
          "name": "stdout",
          "text": [
            "Pedro\n"
          ]
        }
      ]
    },
    {
      "cell_type": "markdown",
      "source": [
        "* Usa tabela hash para acesso rápido.\n",
        "\n",
        "* Chaves precisam ser imutáveis (strings, números, tuplas imutáveis).\n",
        "\n",
        "* *“Dictionary”* = dicionário (como um de papel: chave = palavra, valor = definição)."
      ],
      "metadata": {
        "id": "WK4tzVeMtOa_"
      }
    },
    {
      "cell_type": "markdown",
      "source": [
        "### 4. Conjuntos (set)"
      ],
      "metadata": {
        "id": "xPG0jFECuqJu"
      }
    },
    {
      "cell_type": "markdown",
      "source": [
        "Coleção não ordenada, sem valores duplicados.\n",
        "\n",
        "Exemplos:"
      ],
      "metadata": {
        "id": "g9wulOHEvBOu"
      }
    },
    {
      "cell_type": "code",
      "source": [
        "numeros = {1, 2, 3, 3, 4}\n",
        "print(numeros)        # {1, 2, 3, 4}\n",
        "numeros.add(5)        # adiciona\n",
        "numeros.remove(2)     # remove"
      ],
      "metadata": {
        "id": "ZKIjxDtcvEV3"
      },
      "execution_count": null,
      "outputs": []
    },
    {
      "cell_type": "markdown",
      "source": [
        "* Implementado como tabela hash.\n",
        "\n",
        "* Operações matemáticas: **união (|)**, **interseção (&)**, **diferença (-)**."
      ],
      "metadata": {
        "id": "ekMMjU8-vMUu"
      }
    },
    {
      "cell_type": "code",
      "source": [
        "a = {1, 2, 3}\n",
        "b = {2, 3, 4}\n",
        "print(a & b)  # {2, 3}"
      ],
      "metadata": {
        "colab": {
          "base_uri": "https://localhost:8080/"
        },
        "id": "RVgVpFua2gBf",
        "outputId": "cd8857b9-91fe-44c4-f341-797ecdd57c67"
      },
      "execution_count": null,
      "outputs": [
        {
          "output_type": "stream",
          "name": "stdout",
          "text": [
            "{2, 3}\n"
          ]
        }
      ]
    },
    {
      "cell_type": "markdown",
      "source": [
        "* *“Set”* = conjunto, da teoria de conjuntos na matemática."
      ],
      "metadata": {
        "id": "BwTyXsjC2iU4"
      }
    },
    {
      "cell_type": "markdown",
      "source": [
        "### 5. List Comprehension"
      ],
      "metadata": {
        "id": "nK-S7KAO20Fg"
      }
    },
    {
      "cell_type": "markdown",
      "source": [
        "Forma curta e eficiente de criar listas com base em um iterável.\n",
        "\n",
        "Exemplo:"
      ],
      "metadata": {
        "id": "w4lcWexR243_"
      }
    },
    {
      "cell_type": "code",
      "source": [
        "quadrados = [x**2 for x in range(5)]\n",
        "print(quadrados)  # [0, 1, 4, 9, 16]"
      ],
      "metadata": {
        "colab": {
          "base_uri": "https://localhost:8080/"
        },
        "id": "u7aT0goD27vB",
        "outputId": "9126a521-a8aa-49ab-f1b7-c751582976ea"
      },
      "execution_count": null,
      "outputs": [
        {
          "output_type": "stream",
          "name": "stdout",
          "text": [
            "[0, 1, 4, 9, 16]\n"
          ]
        }
      ]
    },
    {
      "cell_type": "markdown",
      "source": [
        "* Sintaxe: **[expressão for item in iterável if condição]**\n",
        "\n",
        "* Mais rápido que for normal na criação de listas.\n",
        "\n",
        "* *Comprehension* vem de *list comprehension* no inglês matemático: compreensão por compreensão (forma de definir conjuntos)."
      ],
      "metadata": {
        "id": "Tsuo_vih3I45"
      }
    },
    {
      "cell_type": "markdown",
      "source": [
        "### 6. Dict Comprehension"
      ],
      "metadata": {
        "id": "uLWxErdJ4yN-"
      }
    },
    {
      "cell_type": "markdown",
      "source": [
        "Forma curta de criar dicionários.\n",
        "\n",
        "Exemplos:"
      ],
      "metadata": {
        "id": "7epXDmOP41wF"
      }
    },
    {
      "cell_type": "code",
      "source": [
        "numeros = {x: x**2 for x in range(3)}\n",
        "print(numeros)  # {0: 0, 1: 1, 2: 4}"
      ],
      "metadata": {
        "colab": {
          "base_uri": "https://localhost:8080/"
        },
        "id": "TobYNRuq44i9",
        "outputId": "a32b4928-7466-4c36-9494-6acc9d9d6d3b"
      },
      "execution_count": null,
      "outputs": [
        {
          "output_type": "stream",
          "name": "stdout",
          "text": [
            "{0: 0, 1: 1, 2: 4}\n"
          ]
        }
      ]
    },
    {
      "cell_type": "markdown",
      "source": [
        "Igual à list comprehension, mas **com chave: valor.**"
      ],
      "metadata": {
        "id": "oeFwFxe55D6u"
      }
    },
    {
      "cell_type": "markdown",
      "source": [
        "### 7. Set Comprehension"
      ],
      "metadata": {
        "id": "xhtJYUOi5IIm"
      }
    },
    {
      "cell_type": "markdown",
      "source": [
        "Forma curta de criar conjuntos.\n",
        "\n",
        "Exemplos:"
      ],
      "metadata": {
        "id": "t34tlBlx5J_4"
      }
    },
    {
      "cell_type": "code",
      "source": [
        "pares = {x for x in range(10) if x % 2 == 0}\n",
        "print(pares)  # {0, 2, 4, 6, 8}"
      ],
      "metadata": {
        "colab": {
          "base_uri": "https://localhost:8080/"
        },
        "id": "ywjBk7T05NB_",
        "outputId": "6287dd19-baa0-4e94-97aa-159a97dd84fb"
      },
      "execution_count": null,
      "outputs": [
        {
          "output_type": "stream",
          "name": "stdout",
          "text": [
            "{0, 2, 4, 6, 8}\n"
          ]
        }
      ]
    },
    {
      "cell_type": "markdown",
      "source": [
        "### 8. Fatiamento (slice)"
      ],
      "metadata": {
        "id": "x2IJBatn5diO"
      }
    },
    {
      "cell_type": "markdown",
      "source": [
        "Permite **acessar uma parte de listas, strings, tuplas.**\n",
        "\n",
        "Exemplos:"
      ],
      "metadata": {
        "id": "bDJTuXIv5frt"
      }
    },
    {
      "cell_type": "code",
      "source": [
        "lista = [0, 1, 2, 3, 4, 5]\n",
        "print(lista[1:4])     # [1, 2, 3]\n",
        "print(lista[:3])      # [0, 1, 2]\n",
        "print(lista[::2])     # [0, 2, 4]"
      ],
      "metadata": {
        "colab": {
          "base_uri": "https://localhost:8080/"
        },
        "id": "d3kN3I6V5jcV",
        "outputId": "6647267d-fa0d-458a-8b68-9aaf499dacbd"
      },
      "execution_count": null,
      "outputs": [
        {
          "output_type": "stream",
          "name": "stdout",
          "text": [
            "[1, 2, 3]\n",
            "[0, 1, 2]\n",
            "[0, 2, 4]\n"
          ]
        }
      ]
    },
    {
      "cell_type": "markdown",
      "source": [
        "* **Sintaxe**: **[inicio:fim:passo]**\n",
        "\n",
        "* Fatiamento não altera a lista original, retorna uma nova.\n",
        "\n",
        "* *Slice* = fatia, pedaço cortado de algo."
      ],
      "metadata": {
        "id": "x5MK-HOx5yrv"
      }
    },
    {
      "cell_type": "markdown",
      "source": [
        "## Funções"
      ],
      "metadata": {
        "id": "9M4Qh-vV58J2"
      }
    },
    {
      "cell_type": "markdown",
      "source": [
        "### 1. Definindo Funções com **def**"
      ],
      "metadata": {
        "id": "6bPKkWrw6xQw"
      }
    },
    {
      "cell_type": "markdown",
      "source": [
        "Forma padrão de criar funções no Python.\n",
        "\n",
        "Exemplo:"
      ],
      "metadata": {
        "id": "F-U35B6I6z_Y"
      }
    },
    {
      "cell_type": "code",
      "source": [
        "def saudacao():\n",
        "    print(\"Oi, Pedro!\")\n",
        "\n",
        "saudacao()"
      ],
      "metadata": {
        "colab": {
          "base_uri": "https://localhost:8080/"
        },
        "id": "uvH06OEB62zD",
        "outputId": "9396d5db-a7cf-4a97-8b7a-2a10b122c0f2"
      },
      "execution_count": null,
      "outputs": [
        {
          "output_type": "stream",
          "name": "stdout",
          "text": [
            "Oi, Pedro!\n"
          ]
        }
      ]
    },
    {
      "cell_type": "markdown",
      "source": [
        "Funções **encapsulam código** para **reutilização**.\n",
        "\n",
        "Sintaxe básica:"
      ],
      "metadata": {
        "id": "VFRORkQ265-L"
      }
    },
    {
      "cell_type": "code",
      "source": [
        "def nome(parametros):\n",
        "    # corpo ou o que ele vai fazer\n",
        "    valor = parametros + 1\n",
        "    return valor"
      ],
      "metadata": {
        "id": "_MLvzPoo69or"
      },
      "execution_count": null,
      "outputs": []
    },
    {
      "cell_type": "markdown",
      "source": [
        "**def** vem de define (definir função)"
      ],
      "metadata": {
        "id": "3Sy_4W3i9T2r"
      }
    },
    {
      "cell_type": "markdown",
      "source": [
        "### 2. Parâmetros e Argumentos"
      ],
      "metadata": {
        "id": "I1XZTnaw9eP8"
      }
    },
    {
      "cell_type": "markdown",
      "source": [
        "Valores passados para a função na chamada.\n",
        "\n",
        "Exemplo:"
      ],
      "metadata": {
        "id": "IMj7KcDH9k0C"
      }
    },
    {
      "cell_type": "code",
      "source": [
        "def somar(a, b):\n",
        "    return a + b\n",
        "\n",
        "print(somar(3, 5))  # 8"
      ],
      "metadata": {
        "colab": {
          "base_uri": "https://localhost:8080/"
        },
        "id": "YWMeqGps-Biz",
        "outputId": "00141225-fa1c-4a95-d2ef-41f3216a66f8"
      },
      "execution_count": null,
      "outputs": [
        {
          "output_type": "stream",
          "name": "stdout",
          "text": [
            "8\n"
          ]
        }
      ]
    },
    {
      "cell_type": "markdown",
      "source": [
        "* **Parâmetro**: variável definida na função.\n",
        "\n",
        "* **Argumento**: valor real passado na chamada."
      ],
      "metadata": {
        "id": "K2jlZJY9-G7i"
      }
    },
    {
      "cell_type": "markdown",
      "source": [
        "### 3. Parâmetros com Valor Padrão"
      ],
      "metadata": {
        "id": "xyWjbovM-TRz"
      }
    },
    {
      "cell_type": "markdown",
      "source": [
        "Quando um parâmetro já tem um valor se o usuário não passar nada, ou seja, um valor chamado como **default**\n",
        "\n",
        "Exemplos:"
      ],
      "metadata": {
        "id": "Y3C1dyGH-WOX"
      }
    },
    {
      "cell_type": "code",
      "source": [
        "def saudacao(nome=\"visitante\"):\n",
        "    print(f\"Olá, {nome}!\")\n",
        "\n",
        "saudacao()         # Olá, visitante!\n",
        "saudacao(\"Pedro\")  # Olá, Pedro!"
      ],
      "metadata": {
        "colab": {
          "base_uri": "https://localhost:8080/"
        },
        "id": "qiBtTX-I-i1k",
        "outputId": "24e50c9a-53ab-48ed-ea79-f08c1794d57b"
      },
      "execution_count": null,
      "outputs": [
        {
          "output_type": "stream",
          "name": "stdout",
          "text": [
            "Olá, visitante!\n",
            "Olá, Pedro!\n"
          ]
        }
      ]
    },
    {
      "cell_type": "markdown",
      "source": [
        "* O **valor padrão é definido** na assinatura."
      ],
      "metadata": {
        "id": "_VfeZVxF-4Wv"
      }
    },
    {
      "cell_type": "markdown",
      "source": [
        "### 4. Funções que usam * args e  **kwargs"
      ],
      "metadata": {
        "id": "2pdZfsHr-9si"
      }
    },
    {
      "cell_type": "markdown",
      "source": [
        "Formas de receber número variável de argumentos.\n",
        "\n",
        "Exemplos:"
      ],
      "metadata": {
        "id": "HHuL8dmb_Kwm"
      }
    },
    {
      "cell_type": "code",
      "source": [
        "def exemplo_args(*args):\n",
        "    print(args)  # Tupla com argumentos\n",
        "\n",
        "def exemplo_kwargs(**kwargs):\n",
        "    print(kwargs)  # Dicionário com argumentos nomeados\n",
        "\n",
        "exemplo_args(12, \"Pedro\", 18)\n",
        "\n",
        "exemplo_kwargs(nome=\"Pedro\", idade=17)\n"
      ],
      "metadata": {
        "colab": {
          "base_uri": "https://localhost:8080/"
        },
        "collapsed": true,
        "id": "hNPab6BX_XF4",
        "outputId": "a80f8d61-1e75-44f5-e116-0b8e6a167dd4"
      },
      "execution_count": null,
      "outputs": [
        {
          "output_type": "stream",
          "name": "stdout",
          "text": [
            "(12, 'Pedro', 18)\n",
            "{'nome': 'Pedro', 'idade': 17}\n"
          ]
        }
      ]
    },
    {
      "cell_type": "markdown",
      "source": [
        "* *args = argumentos posicionais.\n",
        "\n",
        "* **kwargs = argumentos nomeados.\n",
        "\n",
        "* args = arguments (argumentos).\n",
        "\n",
        "* kwargs = keyword arguments (argumentos por palavra-chave)."
      ],
      "metadata": {
        "id": "lnFZbImTAg4V"
      }
    },
    {
      "cell_type": "markdown",
      "source": [
        "### 5. return"
      ],
      "metadata": {
        "id": "f1CZL9PqAyUi"
      }
    },
    {
      "cell_type": "markdown",
      "source": [
        "Define o valor que a função devolve.\n",
        "\n",
        "Exemplos:"
      ],
      "metadata": {
        "id": "BZsL-giFBCdP"
      }
    },
    {
      "cell_type": "code",
      "source": [
        "def dobro(x):\n",
        "    return x * 2\n",
        "\n",
        "resultado = dobro(5)\n",
        "print(resultado)  # 10"
      ],
      "metadata": {
        "id": "qBOmt_GVBGMP"
      },
      "execution_count": null,
      "outputs": []
    },
    {
      "cell_type": "markdown",
      "source": [
        "* Se não tiver return, a função retorna None."
      ],
      "metadata": {
        "id": "H0cb2_ZSBJIE"
      }
    },
    {
      "cell_type": "markdown",
      "source": [
        "### 6. Funções Anônimas (lambda)"
      ],
      "metadata": {
        "id": "C_LezMfVBfY0"
      }
    },
    {
      "cell_type": "markdown",
      "source": [
        "Função pequena sem nome, escrita em uma linha.\n",
        "\n",
        "Exemplos:"
      ],
      "metadata": {
        "id": "CyQR0ESuB0xO"
      }
    },
    {
      "cell_type": "code",
      "source": [
        "dobro = lambda x: x * 2\n",
        "print(dobro(4))  # 8\n",
        "\n",
        "mais_dois = lambda x: x.__add__(2)\n",
        "print(mais_dois(8))"
      ],
      "metadata": {
        "colab": {
          "base_uri": "https://localhost:8080/"
        },
        "id": "vgl0JBS5CKnk",
        "outputId": "410f0ac2-97b4-425f-851d-19dcdd4e392b"
      },
      "execution_count": null,
      "outputs": [
        {
          "output_type": "stream",
          "name": "stdout",
          "text": [
            "8\n",
            "10\n"
          ]
        }
      ]
    },
    {
      "cell_type": "markdown",
      "source": [
        "* Boa para funções curtas usadas temporariamente.\n",
        "\n",
        "* \"Lambda\" vem do cálculo lambda, **conceito matemático de funções anônimas.**"
      ],
      "metadata": {
        "id": "tl3lRfojCxox"
      }
    },
    {
      "cell_type": "markdown",
      "source": [
        "### 7. Funções como Objetos"
      ],
      "metadata": {
        "id": "wmSl5IckDPUC"
      }
    },
    {
      "cell_type": "markdown",
      "source": [
        "Em Python, **funções podem ser passadas como valores.**\n",
        "\n",
        "Exemplos:"
      ],
      "metadata": {
        "id": "gj01SL5rDQZ4"
      }
    },
    {
      "cell_type": "code",
      "source": [
        "def falar(msg):\n",
        "    print(msg)\n",
        "\n",
        "def executar(func, valor):\n",
        "    func(valor)\n",
        "\n",
        "executar(falar, \"Oi Pedro!\")"
      ],
      "metadata": {
        "colab": {
          "base_uri": "https://localhost:8080/"
        },
        "id": "glJdxMDqDcic",
        "outputId": "f8640ded-5782-43ca-95b9-1b55f259a042"
      },
      "execution_count": null,
      "outputs": [
        {
          "output_type": "stream",
          "name": "stdout",
          "text": [
            "Oi Pedro!\n"
          ]
        }
      ]
    },
    {
      "cell_type": "markdown",
      "source": [
        "* Python trata funções como **first-class citizens** (valem como qualquer variável)."
      ],
      "metadata": {
        "id": "gDamSqCfDhNP"
      }
    },
    {
      "cell_type": "markdown",
      "source": [
        "### 8. Anotações de Tipo (type hints)"
      ],
      "metadata": {
        "id": "uNUpZvbZDtTr"
      }
    },
    {
      "cell_type": "markdown",
      "source": [
        "Forma de indicar os tipos esperados, sem obrigar.\n",
        "\n",
        "Exemplos:"
      ],
      "metadata": {
        "id": "4tvtClCrDwnV"
      }
    },
    {
      "cell_type": "code",
      "source": [
        "def somar(a: int, b: int) -> int:\n",
        "    return a + b\n",
        "\n",
        "# a: type espera o tipo dos parametros\n",
        "# -> type espera de que tipo será o retorno da função"
      ],
      "metadata": {
        "id": "bIYxAJ5LDzL7"
      },
      "execution_count": null,
      "outputs": []
    },
    {
      "cell_type": "markdown",
      "source": [
        "* Ajuda na leitura e em ferramentas de análise de código."
      ],
      "metadata": {
        "id": "udrxh-KxD1mp"
      }
    },
    {
      "cell_type": "markdown",
      "source": [
        "### 9. Funções Recursivas"
      ],
      "metadata": {
        "id": "O4hZF661Eg7B"
      }
    },
    {
      "cell_type": "markdown",
      "source": [
        "Função que chama a si mesma."
      ],
      "metadata": {
        "id": "UhMzolSsEvQM"
      }
    },
    {
      "cell_type": "code",
      "source": [
        "def fatorial(n):\n",
        "    if n == 0:\n",
        "        return 1\n",
        "    return n * fatorial(n - 1)\n",
        "\n",
        "print(fatorial(5))  # 120"
      ],
      "metadata": {
        "id": "ah8qnqRyE2eG"
      },
      "execution_count": null,
      "outputs": []
    },
    {
      "cell_type": "markdown",
      "source": [
        "* Útil para problemas que se repetem em partes menores.\n",
        "\n",
        "* **Precisa de condição de parada.**"
      ],
      "metadata": {
        "id": "k9pVcfhFE428"
      }
    },
    {
      "cell_type": "markdown",
      "source": [
        "### 10. Global e nonlocal e Tipos de Escopo no Python (LEGB)\n"
      ],
      "metadata": {
        "id": "JgklqJFsFB5R"
      }
    },
    {
      "cell_type": "markdown",
      "source": [
        "Permite alterar variáveis fora do escopo da função.\n",
        "Escopo é o “lugar” onde uma variável é válida.\n",
        "Ou seja: onde você pode acessar ou modificar uma variável\n",
        "\n",
        "Python segue a regra LEGB, que é uma cadeia de prioridade para achar variáveis:\n",
        "\n",
        "| Letra | Nome      | Significado                                                                 |\n",
        "|-------|-----------|------------------------------------------------------------------------------|\n",
        "| L     | Local     | Dentro da função atual (escopo mais interno).                               |\n",
        "| E     | Enclosing | Dentro da função \"pai\", no caso de funções aninhadas (escopo intermediário).|\n",
        "| G     | Global    | Variáveis definidas no script principal (módulo global).                    |\n",
        "| B     | Built-in  | Nomes embutidos do Python, como funções e constantes internas (`len`, `print`). |\n",
        "\n",
        "\n",
        "Exemplos:"
      ],
      "metadata": {
        "id": "LjzVh70LFY75"
      }
    },
    {
      "cell_type": "code",
      "source": [
        "x = 10\n",
        "\n",
        "def alterar():\n",
        "    global x\n",
        "    x = 20\n",
        "\n",
        "alterar()\n",
        "print(x)  # 20"
      ],
      "metadata": {
        "id": "t1OaFJDfFgxH"
      },
      "execution_count": null,
      "outputs": []
    },
    {
      "cell_type": "markdown",
      "source": [
        "* **global** = altera variável global.\n",
        "\n",
        "* **nonlocal** = altera variável de função externa."
      ],
      "metadata": {
        "id": "M1UUsWn_Fj8K"
      }
    },
    {
      "cell_type": "markdown",
      "source": [
        "## POO (Programação Orientada a Objetos)"
      ],
      "metadata": {
        "id": "MFrOtwczGkZe"
      }
    },
    {
      "cell_type": "markdown",
      "source": [
        "### 1. Classe (class)"
      ],
      "metadata": {
        "id": "4BCQdt33G5ug"
      }
    },
    {
      "cell_type": "markdown",
      "source": [
        "É um molde (**modelo, blueprint**) para criar objetos.\n",
        "\n",
        "Exemplos:"
      ],
      "metadata": {
        "id": "yfFhI_jzG-LL"
      }
    },
    {
      "cell_type": "code",
      "source": [
        "class Pessoa:\n",
        "    pass"
      ],
      "metadata": {
        "id": "FNhYDESqHEY7"
      },
      "execution_count": null,
      "outputs": []
    },
    {
      "cell_type": "markdown",
      "source": [
        "* Tudo que é objeto em Python vem de uma classe.\n",
        "\n",
        "* Ela define o que o objeto tem (atributos) e o que ele faz (métodos).\n",
        "\n",
        "* Vem do conceito de \"classes\" em modelagem de sistemas.\n",
        "\n",
        "* Um grupo que classifica objetos com características semelhantes."
      ],
      "metadata": {
        "id": "81lBO1TMHSlV"
      }
    },
    {
      "cell_type": "markdown",
      "source": [
        "### 2. Objeto (instância da classe)"
      ],
      "metadata": {
        "id": "Ozb1fD61HZsd"
      }
    },
    {
      "cell_type": "markdown",
      "source": [
        "É um exemplar real daquela classe.\n",
        "\n",
        "Exemplo"
      ],
      "metadata": {
        "id": "uYCSVsmgHju0"
      }
    },
    {
      "cell_type": "code",
      "source": [
        "class Pessoa:\n",
        "    pass\n",
        "\n",
        "pedro = Pessoa()"
      ],
      "metadata": {
        "id": "W7fNRWzFHpl3"
      },
      "execution_count": null,
      "outputs": []
    },
    {
      "cell_type": "markdown",
      "source": [
        "* pedro é um objeto do tipo Pessoa.\n",
        "\n",
        "* Objeto = instância da classe."
      ],
      "metadata": {
        "id": "BHXPB8pGH28b"
      }
    },
    {
      "cell_type": "markdown",
      "source": [
        "### 3. __ init __ (construtor)"
      ],
      "metadata": {
        "id": "nnq4H2JKH_aM"
      }
    },
    {
      "cell_type": "markdown",
      "source": [
        "Método chamado automaticamente quando a classe é instanciada.\n",
        "\n",
        "Exemplos:"
      ],
      "metadata": {
        "id": "B1EtgEJvIF9G"
      }
    },
    {
      "cell_type": "code",
      "source": [
        "class Pessoa:\n",
        "    def __init__(self, nome):\n",
        "        self.nome = nome\n",
        "\n",
        "p = Pessoa(\"Pedro\")\n",
        "print(p.nome)  # Pedro"
      ],
      "metadata": {
        "colab": {
          "base_uri": "https://localhost:8080/"
        },
        "id": "koUOEbVEIJYx",
        "outputId": "4002a4f0-411e-45d1-acb7-e347e6728d2c"
      },
      "execution_count": null,
      "outputs": [
        {
          "output_type": "stream",
          "name": "stdout",
          "text": [
            "Pedro\n"
          ]
        }
      ]
    },
    {
      "cell_type": "markdown",
      "source": [
        "* __ init __ configura o estado inicial do objeto.\n",
        "\n",
        "* **self é a referência ao próprio objeto.**\n",
        "\n",
        "* \"init\" = inicialização.\n",
        "\n",
        "* É um **método mágico (dunder)** chamado pelo Python automaticamente."
      ],
      "metadata": {
        "id": "-5DVYpRQIM0L"
      }
    },
    {
      "cell_type": "markdown",
      "source": [
        "### 4. Atributos (variáveis do objeto)"
      ],
      "metadata": {
        "id": "a4_cc0zoIlDt"
      }
    },
    {
      "cell_type": "markdown",
      "source": [
        "São as características do objeto.\n",
        "\n",
        "Exemplos:"
      ],
      "metadata": {
        "id": "I5nVHHNXInXY"
      }
    },
    {
      "cell_type": "code",
      "source": [
        "class Pessoa:\n",
        "    def __init__(self, nome, idade):\n",
        "        self.nome = nome\n",
        "        self.idade = idade"
      ],
      "metadata": {
        "id": "aUE-uQBFIqjF"
      },
      "execution_count": null,
      "outputs": []
    },
    {
      "cell_type": "markdown",
      "source": [
        "Ficam guardadas dentro do objeto, **acessadas por obj.**atributo."
      ],
      "metadata": {
        "id": "27Mk8PaHIudu"
      }
    },
    {
      "cell_type": "markdown",
      "source": [
        "### 5. Métodos (funções da classe)"
      ],
      "metadata": {
        "id": "vyKpBTeXJZZH"
      }
    },
    {
      "cell_type": "markdown",
      "source": [
        "São as ações que o objeto pode executar."
      ],
      "metadata": {
        "id": "U2D30GXUJe6i"
      }
    },
    {
      "cell_type": "code",
      "source": [
        "class Pessoa:\n",
        "    def __init__(self, nome):\n",
        "        self.nome = nome\n",
        "\n",
        "    def falar(self):\n",
        "        print(f\"Oi, eu sou {self.nome}\")"
      ],
      "metadata": {
        "id": "WKPSYzXtJhSz"
      },
      "execution_count": null,
      "outputs": []
    },
    {
      "cell_type": "markdown",
      "source": [
        "### 6. Encapsulamento"
      ],
      "metadata": {
        "id": "MyC7zzrUJqPd"
      }
    },
    {
      "cell_type": "markdown",
      "source": [
        "Esconder os detalhes internos e controlar o acesso."
      ],
      "metadata": {
        "id": "SYrxsDxGJudE"
      }
    },
    {
      "cell_type": "code",
      "source": [
        "class Conta:\n",
        "    def __init__(self):\n",
        "        self.__saldo = 100  # privado\n",
        "\n",
        "    def ver_saldo(self):\n",
        "        return self.__saldo"
      ],
      "metadata": {
        "id": "E6jAFvw7Jx4L"
      },
      "execution_count": null,
      "outputs": []
    },
    {
      "cell_type": "markdown",
      "source": [
        "* Prefixo __ (**duplo underline**) = \"privado\" (mas ainda acessável com truques).\n",
        "\n",
        "* Isso protege os dados internos."
      ],
      "metadata": {
        "id": "tQnqupH-J0WS"
      }
    },
    {
      "cell_type": "markdown",
      "source": [
        "### 7. Herança"
      ],
      "metadata": {
        "id": "GurFLrIDJ9JK"
      }
    },
    {
      "cell_type": "markdown",
      "source": [
        "Permite **uma classe herdar atributos e métodos de outra.**\n",
        "\n",
        "Exemplos:"
      ],
      "metadata": {
        "id": "8FOWTz_SJ_yO"
      }
    },
    {
      "cell_type": "code",
      "source": [
        "class Animal:\n",
        "    def falar(self):\n",
        "        print(\"Animal falando\")\n",
        "\n",
        "class Cachorro(Animal):\n",
        "    def falar(self):\n",
        "        print(\"Au au\")\n",
        "\n",
        "dog = Cachorro()\n",
        "dog.falar()  # Au au"
      ],
      "metadata": {
        "id": "ShxLGTwnKIal"
      },
      "execution_count": null,
      "outputs": []
    },
    {
      "cell_type": "markdown",
      "source": [
        "Cachorro herda de Animal, mas pode sobrescrever métodos (**override**)."
      ],
      "metadata": {
        "id": "UPWaoVmfKTU6"
      }
    },
    {
      "cell_type": "markdown",
      "source": [
        "### 8. super()"
      ],
      "metadata": {
        "id": "RndpTCNuKaWj"
      }
    },
    {
      "cell_type": "markdown",
      "source": [
        "Permite chamar um método da classe pai dentro da filha.\n",
        "\n",
        "Exemplos:"
      ],
      "metadata": {
        "id": "aMdwmziMKkvK"
      }
    },
    {
      "cell_type": "code",
      "source": [
        "class Animal:\n",
        "    def __init__(self, nome):\n",
        "        self.nome = nome\n",
        "\n",
        "class Cachorro(Animal):\n",
        "    def __init__(self, nome, raca):\n",
        "        super().__init__(nome)\n",
        "        self.raca = raca"
      ],
      "metadata": {
        "id": "RwiJ-smOKoYl"
      },
      "execution_count": null,
      "outputs": []
    },
    {
      "cell_type": "markdown",
      "source": [
        "* super() = **\"superclasse\"**, a classe mãe."
      ],
      "metadata": {
        "id": "eZ6pjN0PKt6h"
      }
    },
    {
      "cell_type": "markdown",
      "source": [
        "### 9. Polimorfismo"
      ],
      "metadata": {
        "id": "41zAItbgKycy"
      }
    },
    {
      "cell_type": "markdown",
      "source": [
        "Mesma função, comportamento diferente, dependendo do objeto.\n",
        "\n",
        "Exemplos:"
      ],
      "metadata": {
        "id": "bPdPGj3mK1UC"
      }
    },
    {
      "cell_type": "code",
      "source": [
        "class Gato:\n",
        "    def falar(self):\n",
        "        return \"Miau\"\n",
        "\n",
        "class Vaca:\n",
        "    def falar(self):\n",
        "        return \"Muu\"\n",
        "\n",
        "def fazer_bicho_falar(bicho):\n",
        "    print(bicho.falar())\n",
        "\n",
        "fazer_bicho_falar(Gato())  # Miau\n",
        "fazer_bicho_falar(Vaca())  # Muu"
      ],
      "metadata": {
        "id": "fDrmqxz-K6QM"
      },
      "execution_count": null,
      "outputs": []
    },
    {
      "cell_type": "markdown",
      "source": [
        "* **Polimorfismo** = “muitas formas”."
      ],
      "metadata": {
        "id": "FjcgKkNALNm-"
      }
    },
    {
      "cell_type": "markdown",
      "source": [
        "### 10. Métodos Especiais (métodos mágicos)"
      ],
      "metadata": {
        "id": "d58nvtOrLU5w"
      }
    },
    {
      "cell_type": "markdown",
      "source": [
        "Métodos que o Python reconhece e usa automaticamente."
      ],
      "metadata": {
        "id": "qvCy-0aALYis"
      }
    },
    {
      "cell_type": "code",
      "source": [
        "class Pessoa:\n",
        "    def __init__(self, nome):\n",
        "        self.nome = nome\n",
        "\n",
        "    def __str__(self):\n",
        "        return f\"Pessoa: {self.nome}\"\n",
        "\n",
        "print(Pessoa(\"Pedro\"))  # Pessoa: Pedro"
      ],
      "metadata": {
        "id": "bqZyxqW_LdJh"
      },
      "execution_count": null,
      "outputs": []
    },
    {
      "cell_type": "markdown",
      "source": [
        "* **Começam e terminam com dois underlines __nome__.**\n",
        "\n",
        "* Chamados automaticamente pelo Python."
      ],
      "metadata": {
        "id": "PLTswBxYL3z1"
      }
    },
    {
      "cell_type": "markdown",
      "source": [
        "### 11. Classes Abstratas (com abc)"
      ],
      "metadata": {
        "id": "MYaIpddpMijO"
      }
    },
    {
      "cell_type": "markdown",
      "source": [
        "Classes que não podem ser instanciadas diretamente.\n",
        "\n",
        "Molde genérico que diz “toda classe filha TEM que implementar esses métodos obrigatórios”."
      ],
      "metadata": {
        "id": "Mtg1AP-OMm8u"
      }
    },
    {
      "cell_type": "code",
      "source": [
        "from abc import ABC, abstractmethod\n",
        "\n",
        "class Animal(ABC):\n",
        "    @abstractmethod\n",
        "    def falar(self, nome):\n",
        "        print(nome)\n",
        "\n",
        "class Cachorro(Animal):\n",
        "    def falar(self, nome):\n",
        "        print(f\"{nome} diz: Au au!\")\n",
        "\n",
        "# Criando objeto e chamando método falar\n",
        "c = Cachorro()\n",
        "c.falar('Cachorro')\n"
      ],
      "metadata": {
        "id": "LYvrhqwKMo93",
        "colab": {
          "base_uri": "https://localhost:8080/"
        },
        "outputId": "4ad6dade-abd8-481d-b33d-18275682e602"
      },
      "execution_count": 4,
      "outputs": [
        {
          "output_type": "stream",
          "name": "stdout",
          "text": [
            "Cachorro diz: Au au!\n"
          ]
        }
      ]
    },
    {
      "cell_type": "markdown",
      "source": [
        "* Usadas como modelo para outras classes.\n",
        "\n",
        "* Quando quer garantir que todas as classes filhas tenham que implementar o método, com comportamento próprio.\n",
        "\n",
        "* Se o método base tiver implementação (não abstrata), as filhas podem usar, sobrescrever ou deixar como está.\n",
        "\n",
        "* Exemplo: Exemplo: Imagine uma conta corrente.\n",
        "Podemos ter ContaCorrentePessoaFisica e ContaCorrentePessoaJuridica.\n",
        "As duas funcionam como conta corrente (mesmos métodos básicos, como sacar, depositar), mas a forma como fazem algumas coisas pode mudar.\n",
        "Nesse caso, criamos uma classe abstrata ContaCorrente que define o que toda conta corrente precisa ter, e cada tipo (física ou jurídica) implementa como faz."
      ],
      "metadata": {
        "id": "ogMLVndpMv2p"
      }
    },
    {
      "cell_type": "markdown",
      "source": [
        "### 12. Propriedades (@property)"
      ],
      "metadata": {
        "id": "JryO1szJMzVu"
      }
    },
    {
      "cell_type": "markdown",
      "source": [
        "Permite chamar métodos como se fossem atributos."
      ],
      "metadata": {
        "id": "luonJzStM6h1"
      }
    },
    {
      "cell_type": "code",
      "source": [
        "class Produto:\n",
        "    def __init__(self, preco):\n",
        "        self._preco = preco\n",
        "\n",
        "    @property\n",
        "    def preco_com_imposto(self):\n",
        "        return self._preco * 1.1"
      ],
      "metadata": {
        "id": "PFrXgvm7NGm5"
      },
      "execution_count": null,
      "outputs": []
    },
    {
      "cell_type": "markdown",
      "source": [
        "*  **@property** transforma um método em um atributo de leitura."
      ],
      "metadata": {
        "id": "Mw3HfkqMNIuz"
      }
    },
    {
      "cell_type": "markdown",
      "source": [
        "## Funções Avançadas"
      ],
      "metadata": {
        "id": "reXHnxwUp7eo"
      }
    },
    {
      "cell_type": "markdown",
      "source": [
        "### 1. Funções aninhadas"
      ],
      "metadata": {
        "id": "CaMKdzIKrETN"
      }
    },
    {
      "cell_type": "markdown",
      "source": [
        "Funções dentro de outras funções.\n",
        "\n",
        "Servem para organizar código e criar variáveis que só existem naquele bloco."
      ],
      "metadata": {
        "id": "XhXYpfF9rGrR"
      }
    },
    {
      "cell_type": "code",
      "source": [
        "def externa():\n",
        "    def interna():\n",
        "        print(\"Sou a função interna\")\n",
        "    interna()\n",
        "\n",
        "externa()  # \"Sou a função interna\""
      ],
      "metadata": {
        "colab": {
          "base_uri": "https://localhost:8080/"
        },
        "id": "5LgrYDajrJjE",
        "outputId": "50d24b1f-26ab-4851-b132-8e4199d721be"
      },
      "execution_count": 5,
      "outputs": [
        {
          "output_type": "stream",
          "name": "stdout",
          "text": [
            "Sou a função interna\n"
          ]
        }
      ]
    },
    {
      "cell_type": "markdown",
      "source": [
        "### 2. Closures"
      ],
      "metadata": {
        "id": "RAkaiMk3rp0_"
      }
    },
    {
      "cell_type": "markdown",
      "source": [
        "Função interna que lembra das variáveis da função externa, mesmo depois dela ter terminado."
      ],
      "metadata": {
        "id": "S2dYmKVSrvBp"
      }
    },
    {
      "cell_type": "code",
      "source": [
        "def contador():\n",
        "    n = 0\n",
        "    def incrementar():\n",
        "        nonlocal n\n",
        "        n += 1\n",
        "        return n\n",
        "    return incrementar\n",
        "\n",
        "c = contador()\n",
        "print(c())  # 1\n",
        "print(c())  # 2"
      ],
      "metadata": {
        "colab": {
          "base_uri": "https://localhost:8080/"
        },
        "id": "CLVm6dOkrx9i",
        "outputId": "a9ac7981-b4cf-4795-a3d7-9b073f3530db"
      },
      "execution_count": 6,
      "outputs": [
        {
          "output_type": "stream",
          "name": "stdout",
          "text": [
            "1\n",
            "2\n"
          ]
        }
      ]
    },
    {
      "cell_type": "markdown",
      "source": [
        "### 3. Decoradores"
      ],
      "metadata": {
        "id": "sKPRnmSer2W_"
      }
    },
    {
      "cell_type": "markdown",
      "source": [
        "Função que recebe outra função como argumento e retorna outra função.\n",
        "Serve para modificar o comportamento sem mudar o código original."
      ],
      "metadata": {
        "id": "uHQ5rBvCsKqw"
      }
    },
    {
      "cell_type": "code",
      "source": [
        "def log(func):\n",
        "    def wrapper():\n",
        "        print(\"Executando...\")\n",
        "        func()\n",
        "    return wrapper\n",
        "\n",
        "@log\n",
        "def ola():\n",
        "    print(\"Oi!\")\n",
        "\n",
        "ola()"
      ],
      "metadata": {
        "colab": {
          "base_uri": "https://localhost:8080/"
        },
        "id": "uLHSYoZRsMm-",
        "outputId": "f55654fe-68f5-4c62-ae15-35d1d1ee5402"
      },
      "execution_count": 7,
      "outputs": [
        {
          "output_type": "stream",
          "name": "stdout",
          "text": [
            "Executando...\n",
            "Oi!\n"
          ]
        }
      ]
    },
    {
      "cell_type": "markdown",
      "source": [
        "### 4. Funções de ordem superior"
      ],
      "metadata": {
        "id": "YtEtkz20sSdP"
      }
    },
    {
      "cell_type": "markdown",
      "source": [
        "Funções que recebem outra função como argumento ou retornam função."
      ],
      "metadata": {
        "id": "OW6JMq5usV64"
      }
    },
    {
      "cell_type": "code",
      "source": [
        "def aplicar(func, valor):\n",
        "    return func(valor)\n",
        "\n",
        "print(aplicar(len, \"Python\"))  # 6"
      ],
      "metadata": {
        "colab": {
          "base_uri": "https://localhost:8080/"
        },
        "id": "L9_W12amsZNV",
        "outputId": "65a7a6d3-22be-476b-ecf7-5c67e6dbb677"
      },
      "execution_count": 8,
      "outputs": [
        {
          "output_type": "stream",
          "name": "stdout",
          "text": [
            "6\n"
          ]
        }
      ]
    },
    {
      "cell_type": "markdown",
      "source": [
        "## Manipulação de Arquivos"
      ],
      "metadata": {
        "id": "jzLRVH7WvJU9"
      }
    },
    {
      "cell_type": "markdown",
      "source": [
        "### 1. Leitura e escrita de arquivos"
      ],
      "metadata": {
        "id": "S73XKbSRvONf"
      }
    },
    {
      "cell_type": "markdown",
      "source": [
        "No Python, usamos a função open() para abrir arquivos.\n",
        "Modos comuns:\n",
        "\n",
        "* **\"r\"** → leitura\n",
        "\n",
        "* **\"w\"** → escrita (apaga conteúdo anterior)\n",
        "\n",
        "* **\"a\"** → acrescentar no final\n",
        "\n",
        "* **\"rb\" / \"wb\"** → modo binário"
      ],
      "metadata": {
        "id": "_Kto5RsrvTDy"
      }
    },
    {
      "cell_type": "code",
      "source": [
        "# Escrevendo\n",
        "with open(\"dados.txt\", \"w\") as f:\n",
        "    f.write(\"Olá, Python!\\n\")\n",
        "\n",
        "# Lendo\n",
        "with open(\"dados.txt\", \"r\") as f:\n",
        "    conteudo = f.read()\n",
        "    print(conteudo)"
      ],
      "metadata": {
        "colab": {
          "base_uri": "https://localhost:8080/"
        },
        "id": "_2qDDTK0vbHa",
        "outputId": "a7d302e3-019c-41db-8b6c-a5b30eea7e22"
      },
      "execution_count": 9,
      "outputs": [
        {
          "output_type": "stream",
          "name": "stdout",
          "text": [
            "Olá, Python!\n",
            "\n"
          ]
        }
      ]
    },
    {
      "cell_type": "markdown",
      "source": [
        "### 2. Leitura linha a linha"
      ],
      "metadata": {
        "id": "ZUufvewRvimY"
      }
    },
    {
      "cell_type": "markdown",
      "source": [
        "Útil para arquivos grandes, evitando carregar tudo na memória.\n"
      ],
      "metadata": {
        "id": "C5EXMz3GvlUw"
      }
    },
    {
      "cell_type": "code",
      "source": [
        "with open(\"dados.txt\", \"r\") as f:\n",
        "    for linha in f:\n",
        "        print(linha.strip())"
      ],
      "metadata": {
        "colab": {
          "base_uri": "https://localhost:8080/"
        },
        "id": "BHLy7tgYvnMT",
        "outputId": "d8fde74c-448d-4f89-e8d4-22ca3ecf0e38"
      },
      "execution_count": 10,
      "outputs": [
        {
          "output_type": "stream",
          "name": "stdout",
          "text": [
            "Olá, Python!\n"
          ]
        }
      ]
    },
    {
      "cell_type": "markdown",
      "source": [
        "### 3. Escrita incremental"
      ],
      "metadata": {
        "id": "CRyueY6Wvtu4"
      }
    },
    {
      "cell_type": "markdown",
      "source": [
        "Para não apagar o conteúdo existente, use \"a\"."
      ],
      "metadata": {
        "id": "6yuUHMgpvwKL"
      }
    },
    {
      "cell_type": "code",
      "source": [
        "with open(\"dados.txt\", \"a\") as f:\n",
        "    f.write(\"Nova linha\\n\")"
      ],
      "metadata": {
        "id": "Y3cwD7XEvxqC"
      },
      "execution_count": null,
      "outputs": []
    },
    {
      "cell_type": "markdown",
      "source": [
        "### 4. Arquivos binários"
      ],
      "metadata": {
        "id": "M0h9ZNFJv-ZT"
      }
    },
    {
      "cell_type": "markdown",
      "source": [
        "Usado para imagens, vídeos, PDFs etc."
      ],
      "metadata": {
        "id": "d0Vu2yafwA7B"
      }
    },
    {
      "cell_type": "code",
      "source": [
        "with open(\"imagem.png\", \"rb\") as f:\n",
        "    dados = f.read()\n",
        "\n",
        "with open(\"copia.png\", \"wb\") as f:\n",
        "    f.write(dados)"
      ],
      "metadata": {
        "id": "-DncRlcQwC6_"
      },
      "execution_count": null,
      "outputs": []
    },
    {
      "cell_type": "markdown",
      "source": [
        "### 5. Caminhos de arquivos"
      ],
      "metadata": {
        "id": "OGN_ahqUwISe"
      }
    },
    {
      "cell_type": "markdown",
      "source": [
        "Podemos usar o módulo **os** ou **pathlib** para trabalhar com caminhos de forma mais portátil."
      ],
      "metadata": {
        "id": "UgN5PJXjwK-3"
      }
    },
    {
      "cell_type": "code",
      "source": [
        "from pathlib import Path\n",
        "\n",
        "pasta = Path(\"minha_pasta\")\n",
        "pasta.mkdir(exist_ok=True)\n",
        "\n",
        "arquivo = pasta / \"dados.txt\"\n",
        "arquivo.write_text(\"Conteúdo com Pathlib\")"
      ],
      "metadata": {
        "id": "BlMdxoexwO5S"
      },
      "execution_count": null,
      "outputs": []
    },
    {
      "cell_type": "markdown",
      "source": [
        "## Módulos e Pacotes"
      ],
      "metadata": {
        "id": "B-zRL0-UxCWL"
      }
    },
    {
      "cell_type": "markdown",
      "source": [
        "### 1. O que é um módulo"
      ],
      "metadata": {
        "id": "O376RCd3xPCi"
      }
    },
    {
      "cell_type": "markdown",
      "source": [
        "Um módulo é simplesmente um arquivo .py com funções, classes ou variáveis que você pode importar e reutilizar.\n",
        "\n",
        "Origem do termo: **\"Módulo\" vem da ideia de modularidade** — dividir um sistema grande em partes independentes."
      ],
      "metadata": {
        "id": "TeGTFccFxRPR"
      }
    },
    {
      "cell_type": "code",
      "source": [
        "# arquivo: util.py\n",
        "def saudacao(nome):\n",
        "    return f\"Olá, {nome}!\"\n",
        "\n",
        "# arquivo principal\n",
        "import util\n",
        "print(util.saudacao(\"Pedro\"))"
      ],
      "metadata": {
        "id": "u7Q4y9f1xj1F"
      },
      "execution_count": null,
      "outputs": []
    },
    {
      "cell_type": "markdown",
      "source": [
        "### 2. Importando módulos"
      ],
      "metadata": {
        "id": "FMKRwAWQxtRM"
      }
    },
    {
      "cell_type": "markdown",
      "source": [
        "Formas comuns de import:"
      ],
      "metadata": {
        "id": "PBC8v9j-xvyz"
      }
    },
    {
      "cell_type": "code",
      "source": [
        "import math\n",
        "print(math.sqrt(16))  # 4.0\n",
        "\n",
        "from math import sqrt\n",
        "print(sqrt(25))  # 5.0\n",
        "\n",
        "from math import sqrt as raiz\n",
        "print(raiz(36))  # 6.0"
      ],
      "metadata": {
        "id": "aGjjPIWGxxi-"
      },
      "execution_count": null,
      "outputs": []
    },
    {
      "cell_type": "markdown",
      "source": [
        "### 3. Criando pacotes"
      ],
      "metadata": {
        "id": "gpXDh6yrx0nP"
      }
    },
    {
      "cell_type": "markdown",
      "source": [
        "**Um pacote é uma pasta que contém vários módulos** e um arquivo especial __init__.py (pode estar vazio ou com código de inicialização).\n",
        "\n",
        "Origem do termo: vem de \"package\" no inglês, que significa \"pacote\" mesmo — um contêiner que agrupa coisas relacionadas."
      ],
      "metadata": {
        "id": "-WZ6d4AOx3u0"
      }
    },
    {
      "cell_type": "markdown",
      "source": [
        "meu_pacote/\n",
        "\n",
        "    __init__.py\n",
        "\n",
        "    modulo1.py\n",
        "\n",
        "    modulo2.py\n",
        "    \n"
      ],
      "metadata": {
        "id": "X40gchk-yCsT"
      }
    },
    {
      "cell_type": "code",
      "source": [
        "# usando o pacote\n",
        "from meu_pacote import modulo1"
      ],
      "metadata": {
        "id": "77PspIegx0E0"
      },
      "execution_count": null,
      "outputs": []
    },
    {
      "cell_type": "markdown",
      "source": [
        "### 4. Módulos padrão do Python"
      ],
      "metadata": {
        "id": "dEtDh3yJyL2X"
      }
    },
    {
      "cell_type": "markdown",
      "source": [
        "O Python vem com uma biblioteca padrão (standard library) gigante: **os**, **sys**, **math**, **json**, **datetime**, etc.\n",
        "\n",
        "Exemplos:"
      ],
      "metadata": {
        "id": "4rAQkMy7yONj"
      }
    },
    {
      "cell_type": "code",
      "source": [
        "import datetime\n",
        "print(datetime.datetime.now())"
      ],
      "metadata": {
        "id": "G9BY119IyWpT"
      },
      "execution_count": null,
      "outputs": []
    },
    {
      "cell_type": "markdown",
      "source": [
        "### 5. Instalando pacotes externos"
      ],
      "metadata": {
        "id": "WepAoSPOyZ_6"
      }
    },
    {
      "cell_type": "markdown",
      "source": [
        "Usamos o **pip** para instalar bibliotecas criadas por terceiros.\n",
        "\n",
        "Comando de instalação:"
      ],
      "metadata": {
        "id": "m7gGUVMaycJt"
      }
    },
    {
      "cell_type": "code",
      "source": [
        "!pip install requests"
      ],
      "metadata": {
        "id": "4c4WEfChyiBD"
      },
      "execution_count": null,
      "outputs": []
    },
    {
      "cell_type": "code",
      "source": [
        "import requests\n",
        "resp = requests.get(\"https://api.github.com\")\n",
        "print(resp.status_code)"
      ],
      "metadata": {
        "id": "eOte1QarykSu"
      },
      "execution_count": null,
      "outputs": []
    },
    {
      "cell_type": "markdown",
      "source": [
        "## Tratamento de Exceções"
      ],
      "metadata": {
        "id": "Nli17IoizEoj"
      }
    },
    {
      "cell_type": "markdown",
      "source": [
        "### 1. O que é exceção"
      ],
      "metadata": {
        "id": "eCTguFYCzHDl"
      }
    },
    {
      "cell_type": "markdown",
      "source": [
        "Uma exceção é um evento que interrompe o fluxo normal do programa quando algo inesperado acontece (ex.: arquivo inexistente, divisão por zero).\n",
        "\n",
        "Origem do termo: \"exception\" vem do latim excipere, que significa \"tirar fora\" ou \"interromper\". **Ou seja, o Python \"tira\" o fluxo normal para tratar o problema.**"
      ],
      "metadata": {
        "id": "fhxeUtK1zJHp"
      }
    },
    {
      "cell_type": "markdown",
      "source": [
        "### 2. Try / Except – Estrutura básica"
      ],
      "metadata": {
        "id": "T5q2s3T3zd8V"
      }
    },
    {
      "cell_type": "code",
      "source": [
        "try:\n",
        "    x = 10 / 0\n",
        "except ZeroDivisionError:\n",
        "    print(\"Não é possível dividir por zero!\")"
      ],
      "metadata": {
        "colab": {
          "base_uri": "https://localhost:8080/"
        },
        "id": "L1b6pW4czgnU",
        "outputId": "68d94dcd-367a-4f6f-f93b-55c423a75379"
      },
      "execution_count": 11,
      "outputs": [
        {
          "output_type": "stream",
          "name": "stdout",
          "text": [
            "Não é possível dividir por zero!\n"
          ]
        }
      ]
    },
    {
      "cell_type": "markdown",
      "source": [
        "### 3. Capturando exceções genéricas"
      ],
      "metadata": {
        "id": "s3KuE9Dk0DSo"
      }
    },
    {
      "cell_type": "code",
      "source": [
        "try:\n",
        "    a = int(\"abc\")\n",
        "except Exception as e:\n",
        "    print(f\"Ocorreu um erro: {e}\")"
      ],
      "metadata": {
        "id": "eg5fHcCu0Fpg"
      },
      "execution_count": null,
      "outputs": []
    },
    {
      "cell_type": "markdown",
      "source": [
        "### 4. Else e Finally"
      ],
      "metadata": {
        "id": "NyFy78Or0NNS"
      }
    },
    {
      "cell_type": "markdown",
      "source": [
        "* **else** → executa se nenhuma exceção ocorrer\n",
        "\n",
        "* **finally** → executa sempre, mesmo com erro"
      ],
      "metadata": {
        "id": "FdDseYCy0Pmw"
      }
    },
    {
      "cell_type": "code",
      "source": [
        "try:\n",
        "    n = int(\"5\")\n",
        "except ValueError:\n",
        "    print(\"Erro de conversão\")\n",
        "else:\n",
        "    print(\"Conversão bem-sucedida\")\n",
        "finally:\n",
        "    print(\"Fim do processo\")\n"
      ],
      "metadata": {
        "id": "OBOq6JPc0PST"
      },
      "execution_count": null,
      "outputs": []
    },
    {
      "cell_type": "markdown",
      "source": [
        "### 5. Levantando exceções (raise)"
      ],
      "metadata": {
        "id": "sMFmRfJD0YB-"
      }
    },
    {
      "cell_type": "markdown",
      "source": [
        "Usado quando você quer forçar um erro."
      ],
      "metadata": {
        "id": "S6mbxdKV0axU"
      }
    },
    {
      "cell_type": "code",
      "source": [
        "def dividir(a, b):\n",
        "    if b == 0:\n",
        "        raise ValueError(\"b não pode ser zero\")\n",
        "    return a / b\n",
        "\n",
        "print(dividir(10, 2))"
      ],
      "metadata": {
        "id": "5wYOmLGX0cHi"
      },
      "execution_count": null,
      "outputs": []
    },
    {
      "cell_type": "markdown",
      "source": [
        "### 6. Criando exceções personalizadas"
      ],
      "metadata": {
        "id": "0XwLzYaF0stk"
      }
    },
    {
      "cell_type": "code",
      "source": [
        "class SaldoInsuficienteError(Exception):\n",
        "    pass\n",
        "\n",
        "def sacar(saldo, valor):\n",
        "    if valor > saldo:\n",
        "        raise SaldoInsuficienteError(\"Saldo insuficiente!\")\n",
        "    return saldo - valor\n",
        "\n",
        "try:\n",
        "    sacar(100, 200)\n",
        "except SaldoInsuficienteError as e:\n",
        "    print(e)\n"
      ],
      "metadata": {
        "id": "0En3-zeg0wuj"
      },
      "execution_count": null,
      "outputs": []
    },
    {
      "cell_type": "markdown",
      "source": [
        "## Programação Funcional"
      ],
      "metadata": {
        "id": "78wJ996h1Y6w"
      }
    },
    {
      "cell_type": "markdown",
      "source": [
        "### 1. map()"
      ],
      "metadata": {
        "id": "M_lXzIwu1f2e"
      }
    },
    {
      "cell_type": "markdown",
      "source": [
        "Aplica uma função em cada item de uma lista (ou outro iterável) e retorna um iterador com os resultados.\n",
        "\n",
        "Exemplos:"
      ],
      "metadata": {
        "id": "KNWBF-j91jk8"
      }
    },
    {
      "cell_type": "code",
      "source": [
        "numeros = [1, 2, 3, 4]\n",
        "dobrados = list(map(lambda x: x * 2, numeros))\n",
        "print(dobrados)  # [2, 4, 6, 8]"
      ],
      "metadata": {
        "id": "jIE-WJCr1moZ"
      },
      "execution_count": null,
      "outputs": []
    },
    {
      "cell_type": "markdown",
      "source": [
        "**map pega cada elemento da lista** numeros, **aplica a função** lambda x: x * 2 (que multiplica por 2), e retorna um iterador com os resultados. Aí convertemos para lista."
      ],
      "metadata": {
        "id": "aIL0Ewbf10m5"
      }
    },
    {
      "cell_type": "markdown",
      "source": [
        "### 2. filter()"
      ],
      "metadata": {
        "id": "xFCwn4eO18Rr"
      }
    },
    {
      "cell_type": "markdown",
      "source": [
        "Filtra elementos de uma lista, deixando só os que passam numa condição (função que retorna True ou False).\n",
        "\n",
        "Exemplos:"
      ],
      "metadata": {
        "id": "LwbZ1Rtp1_PN"
      }
    },
    {
      "cell_type": "code",
      "source": [
        "numeros = [1, 2, 3, 4, 5]\n",
        "pares = list(filter(lambda x: x % 2 == 0, numeros))\n",
        "print(pares)  # [2, 4]"
      ],
      "metadata": {
        "id": "gyWvXJXj2JHD"
      },
      "execution_count": null,
      "outputs": []
    },
    {
      "cell_type": "markdown",
      "source": [
        "filter passa por cada elemento de numeros e mantém só os que fazem x % 2 == 0 ser True (números pares)."
      ],
      "metadata": {
        "id": "40UYU4eF2Lef"
      }
    },
    {
      "cell_type": "markdown",
      "source": [
        "### 3. reduce()"
      ],
      "metadata": {
        "id": "qWI3h_7I2OSX"
      }
    },
    {
      "cell_type": "markdown",
      "source": [
        "Aplica uma função cumulativa em uma lista, reduzindo ela a um único valor."
      ],
      "metadata": {
        "id": "E2D3R8Lh2RjL"
      }
    },
    {
      "cell_type": "code",
      "source": [
        "from functools import reduce\n",
        "\n",
        "numeros = [1, 2, 3, 4]\n",
        "soma = reduce(lambda a, b: a + b, numeros)\n",
        "print(soma)  # 10"
      ],
      "metadata": {
        "id": "w4IhqSEN2Tuy"
      },
      "execution_count": null,
      "outputs": []
    },
    {
      "cell_type": "markdown",
      "source": [
        "reduce vai somando os elementos da lista aos poucos: ((1+2)+3)+4 = 10. Serve pra operações que \"reduzem\" uma lista a um resultado só."
      ],
      "metadata": {
        "id": "EWei9w2M2Vvc"
      }
    }
  ]
}